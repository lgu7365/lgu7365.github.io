{
 "cells": [
  {
   "cell_type": "markdown",
   "id": "46448927",
   "metadata": {},
   "source": [
    "# Assignment 2"
   ]
  },
  {
   "cell_type": "markdown",
   "id": "132294ff",
   "metadata": {},
   "source": [
    "## [일반 문제]"
   ]
  },
  {
   "cell_type": "markdown",
   "id": "633f87d7",
   "metadata": {},
   "source": [
    "## 1. 다음 6 개의 Expression에 대해 Evaluation 결과 값을 출력하고, 해당 결과가 나온 이유에 대해 설명하시오\n",
    "+ 1 and 2 and 3 and 4\n",
    "+ 1 or 2 or 3 or 4\n",
    "+ 1 and 2 or 3 and 4\n",
    "+ (1 and 2) or (3 and 4)\n",
    "+ 1 or 2 and 3 or 4\n",
    "+ (1 or 2) and (3 or 4)"
   ]
  },
  {
   "cell_type": "code",
   "execution_count": 2,
   "id": "a99fe586",
   "metadata": {},
   "outputs": [
    {
     "name": "stdout",
     "output_type": "stream",
     "text": [
      "4\n"
     ]
    }
   ],
   "source": [
    "print(1 and 2 and 3 and 4)"
   ]
  },
  {
   "cell_type": "markdown",
   "id": "06bb6370",
   "metadata": {},
   "source": [
    "and의 경우 모든 값이 참인지 확인하기 때문에 거짓인 값이 있으면 멈추고 거짓이 없으면 끝까지 검사합니다. 다음 문제에서는 모두 참값이기 때문에 마지막 값인 4가 반환됩니다."
   ]
  },
  {
   "cell_type": "code",
   "execution_count": 3,
   "id": "7fd6798b",
   "metadata": {},
   "outputs": [
    {
     "name": "stdout",
     "output_type": "stream",
     "text": [
      "1\n"
     ]
    }
   ],
   "source": [
    "print(1 or 2 or 3 or 4)"
   ]
  },
  {
   "cell_type": "markdown",
   "id": "96006221",
   "metadata": {},
   "source": [
    "or은 한가지 값만 참이면 참이기 때문에 참값이 하나 나오면 뒤의 값은 신경쓰지 않아도 됩니다. 다음 문제에서는 1이 참값이기 때문에 바로 1이 반환됩니다."
   ]
  },
  {
   "cell_type": "code",
   "execution_count": 4,
   "id": "08b06778",
   "metadata": {},
   "outputs": [
    {
     "name": "stdout",
     "output_type": "stream",
     "text": [
      "2\n"
     ]
    }
   ],
   "source": [
    "print(1 and 2 or 3 and 4)"
   ]
  },
  {
   "cell_type": "markdown",
   "id": "bd5d0c85",
   "metadata": {},
   "source": [
    "and가 or보다 우선순위가 높으므로 and를 먼저 계산해 주면 2 or 4 가 되고 이후 or을 계산해 주면 2가 출력되게 됩니다."
   ]
  },
  {
   "cell_type": "code",
   "execution_count": 5,
   "id": "44f34bec",
   "metadata": {},
   "outputs": [
    {
     "name": "stdout",
     "output_type": "stream",
     "text": [
      "2\n"
     ]
    }
   ],
   "source": [
    "print((1 and 2) or (3 and 4))"
   ]
  },
  {
   "cell_type": "markdown",
   "id": "088c649b",
   "metadata": {},
   "source": [
    "괄호를 먼저 계산해 주면 2 or 4 가 되고 이후 or을 계산해 주면 2가 출력되게 됩니다."
   ]
  },
  {
   "cell_type": "code",
   "execution_count": 6,
   "id": "10c9528c",
   "metadata": {},
   "outputs": [
    {
     "name": "stdout",
     "output_type": "stream",
     "text": [
      "1\n"
     ]
    }
   ],
   "source": [
    "print(1 or 2 and 3 or 4)"
   ]
  },
  {
   "cell_type": "markdown",
   "id": "c1968c71",
   "metadata": {},
   "source": [
    "and가 먼저 계산 되어 1 or 3 or 4 가 되고 이후 or이 계산되면 1이 출력됩니다."
   ]
  },
  {
   "cell_type": "code",
   "execution_count": 7,
   "id": "1a2879b7",
   "metadata": {},
   "outputs": [
    {
     "name": "stdout",
     "output_type": "stream",
     "text": [
      "3\n"
     ]
    }
   ],
   "source": [
    "print((1 or 2) and (3 or 4))"
   ]
  },
  {
   "cell_type": "markdown",
   "id": "5492a9c3",
   "metadata": {},
   "source": [
    "괄호가 먼저 계산되어 1 and 3 이 되고 and를 계산해 주면 3이 출력됩니다."
   ]
  },
  {
   "cell_type": "markdown",
   "id": "e6595a21",
   "metadata": {},
   "source": [
    "## 2. 경로에 해당하는 문자열 1개를 입력 받아 그 안에 디렉토리 경로명과 파일명을 분리하여 리스트로 반환하는 함수 div_path(s)를 작성하시오.\n",
    "+ 인자로 전달하는 문자열은 경로만 들어간다고 가정한다.\n",
    "+ 각 디렉토리와 파일을 구분하는 문자는 '/'로 가정한다.\n",
    "+ 반환하는 리스트의 첫번째 원소는 디렉토리이고 두번째 원소는 파일명이다.\n",
    "+ 다음과 같은 실행 및 출력 결과가 도출되어야 한다.\n",
    "    + div_path('/usr/local/bin/python')  \n",
    "        - ['/usr/local/bin', 'python']  \n",
    "    + div_path('/home/chulsoo/test.txt')  \n",
    "        - ['/home/chulsoo', 'test.txt']  \n",
    "+ [참고] 리스트(l) 내에 새로운 정수값 (예를 들어 10)을 넣는 방법은 l.append(10) 이다."
   ]
  },
  {
   "cell_type": "code",
   "execution_count": 26,
   "id": "ce3c15b3",
   "metadata": {},
   "outputs": [
    {
     "name": "stdout",
     "output_type": "stream",
     "text": [
      "('/usr/local/bin', 'python')\n",
      "('/home/chulsoo', 'test.txt')\n"
     ]
    }
   ],
   "source": [
    "def div_path(s):\n",
    "    temp = s.split('/')[-1]\n",
    "    l = s.replace(s.split('/')[-1], \"\")\n",
    "    \n",
    "    return l.rstrip('/'), temp\n",
    "   \n",
    "print(div_path('/usr/local/bin/python'))    \n",
    "print(div_path('/home/chulsoo/test.txt'))"
   ]
  },
  {
   "cell_type": "markdown",
   "id": "e0cc6536",
   "metadata": {},
   "source": [
    "1. 먼저 s를 '/'를 기준으로 나눈 뒤 그 중 마지막 문자열을 temp에 저장해줍니다.  \n",
    "2. 그리고 s에서 '/'를 기준으로 나눈 마지막 문자열을 공백으로 바꾸어 l에 저장합니다.  \n",
    "3. 그러면 l의 마지막에 '/'가 붙어있으므로 '/'를 잘라준 값과 temp를 반환하여 줍니다."
   ]
  },
  {
   "cell_type": "markdown",
   "id": "996e471a",
   "metadata": {},
   "source": [
    "## 3. 두 개의 리스트를 인자로 받아서 그 두 개의 리스트에 대한 '합집합'을 반환하는 함수 list_union(lista, listb)를 작성하시오.\n",
    "+ 집합 자료형 set은 사용하지 않는다.\n",
    "+ 인자로 전달하는 리스트 2 개에는 정수값만 들어간다고 가정하자.\n",
    "+ 함수 내에서 새로운 리스트를 만들어 그 리스트 내에 인자로 받은 두 리스트의 모든 원소를 넣어 반환한다.\n",
    "+ 반환하는 리스트에는 절대로 중복된 원소가 들어 있으면 안된다 (집합의 조건).\n",
    "+ 반환하는 리스트는 정렬이 되어 있어야 한다.\n",
    "+ 다음과 같은 실행 및 출력 결과가 도출되어야 한다.\n",
    "    + list_union([1, 2, 3], [1, 2, 4])\n",
    "        - [1, 2, 3, 4]\n",
    "    + list_union([-10, -5, 0, -1], [100, 9, 0, 9])\n",
    "        - [-10, -5, -1, 0, 9, 100]\n",
    "    + list_union([0, 1, 2], [0, 1, 2])\n",
    "        - [0, 1, 2]\n",
    "+ [참고] 리스트(l) 내에 새로운 정수값 (예를 들어 10)을 넣는 방법은 l.append(10) 이다.\n",
    "+ [참고] 임의의 정수값 (x)이 리스트 (l) 내에 존재하는지 판단하는 방법은 x in l 이다."
   ]
  },
  {
   "cell_type": "code",
   "execution_count": 40,
   "id": "4bf6c45e",
   "metadata": {},
   "outputs": [
    {
     "name": "stdout",
     "output_type": "stream",
     "text": [
      "[1, 2, 3, 4]\n",
      "[-10, -5, -1, 0, 9, 100]\n",
      "[0, 1, 2]\n"
     ]
    }
   ],
   "source": [
    "def list_union(lista, listb):\n",
    "    list = []\n",
    "    for i in range(len(lista)):\n",
    "        if(lista[i] not in list):\n",
    "            list.append(lista[i])\n",
    "    for j in range(len(listb)):\n",
    "        if(listb[j] not in list):\n",
    "            list.append(listb[j])\n",
    "    list.sort()       \n",
    "    return list\n",
    "print(list_union([1, 2, 3, 3], [1, 2, 4]))\n",
    "print(list_union([-10, -5, 0, -1], [100, 9, 0, 9]))\n",
    "print(list_union([0, 1, 2], [0, 1, 2]))"
   ]
  },
  {
   "cell_type": "markdown",
   "id": "71619580",
   "metadata": {},
   "source": [
    "1. 새로운 비어있는 리스트 list를 생성합니다.\n",
    "2. 중복이 있으면 안되므로 lista에서 중복되는 값들은 if문을 사용해 하나씩만 list에 추가해 줍니다.\n",
    "3. 반복문을 사용해 listb의 길이만큼 반복해 줍니다.\n",
    "4. 만약 list에 listb[i]가 없으면 list에 listb[i]값을 추가해줍니다.\n",
    "5. sort를 사용해 리스트를 정렬햐여 반환해 줍니다."
   ]
  },
  {
   "cell_type": "markdown",
   "id": "da271bfe",
   "metadata": {},
   "source": [
    "## 4. 두 개의 리스트를 인자로 받아서 그 두 개의 리스트에 대한 '교집합'을 반환하는 함수 list_intersection(lista, listb)와 '차집합'을 반환하는 함수 list_difference(lista, listb)를 작성하시오.\n",
    "+ 모든 가정과 조건은 3번 문제와 동일하다."
   ]
  },
  {
   "cell_type": "code",
   "execution_count": 46,
   "id": "8799d9dc",
   "metadata": {},
   "outputs": [
    {
     "name": "stdout",
     "output_type": "stream",
     "text": [
      "[1, 2]\n",
      "[]\n",
      "[0, 1, 2]\n",
      "[3]\n",
      "[-10, -5, -1]\n",
      "[]\n"
     ]
    }
   ],
   "source": [
    "def list_intersection(lista, listb):\n",
    "    list = []\n",
    "    for i in range(len(lista)):\n",
    "        for j in range(len(listb)):\n",
    "            if(lista[i]==listb[j]):\n",
    "                list.append(lista[i])\n",
    "    list.sort()            \n",
    "    return list\n",
    "print(list_intersection([1, 2, 3], [1, 2, 4]))\n",
    "print(list_intersection([-10, -5, 0, -1], [100, 9, 9]))\n",
    "print(list_intersection([0, 1, 2], [0, 1, 2]))\n",
    "\n",
    "def list_difference(lista, listb):\n",
    "    list = []\n",
    "    for i in range(len(lista)):\n",
    "        if(lista[i] not in list):\n",
    "            list.append(lista[i])\n",
    "    for i in range(len(listb)):\n",
    "        if(listb[i] in list):\n",
    "            list.remove(listb[i])\n",
    "    list.sort()\n",
    "    return list\n",
    "print(list_difference([1, 2, 3, 3], [1, 2, 4]))\n",
    "print(list_difference([-10, -5, 0, -1], [100, 9, 0, 9]))\n",
    "print(list_difference([0, 1, 2], [0, 1, 2]))"
   ]
  },
  {
   "cell_type": "markdown",
   "id": "3ae78094",
   "metadata": {},
   "source": [
    "* list_intersection\n",
    "1. 새로운 비어있는 리스트 list를 생성합니다.\n",
    "2. for문을 두번 사용하여 lista와 listb값을 하나씩 서로 비교하여 값이 서로 같다면 list에 값을 추가합니다.\n",
    "3. sort를 사용해 정렬한 뒤 list를 반환합니다.  \n",
    "* list_difference\n",
    "1. 새로운 비어있는 리스트 list를 생성합니다.\n",
    "2. 중복이 있으면 안되므로 lista에서 중복되는 값들은 if문을 사용해 하나씩만 list에 추가해 줍니다.\n",
    "3. 그 후 listb의 길이 만큼 반복해줍니다.\n",
    "4. if문을 사용해 만약 list에 listb[i]가 있으면 list에서 listb[i]값을 제거합니다.\n",
    "5. sort를 사용해 정렬한 뒤 반환합니다."
   ]
  },
  {
   "cell_type": "markdown",
   "id": "f57610c7",
   "metadata": {},
   "source": [
    "## 5. 두 개의 양의 정수를 인자로 받아서 해당 범위안에 있는 소수(prime number)의 리스트를 출력하는 함수 print_primenumber(a, b)를 작성하시오.\n",
    "+ 이미 구현된 모듈이나 라이브러리는 사용하지 않는다.\n",
    "+ 함수의 반환(return)은 없으며 함수 내의 끝에서 .format()을 사용하여 다음과 같이 출력한다.\n",
    "    + print_primenumber(2, 10)\n",
    "        - 2 이상 10 이하 정수 중 소수 리스트: [2, 3, 5, 7]"
   ]
  },
  {
   "cell_type": "code",
   "execution_count": 50,
   "id": "8f7cafb3",
   "metadata": {},
   "outputs": [
    {
     "name": "stdout",
     "output_type": "stream",
     "text": [
      "5 이상 50 이하 정수 중 소수 리스트: [5, 7, 11, 13, 17, 19, 23, 29, 31, 37, 41, 43, 47]\n"
     ]
    }
   ],
   "source": [
    "def print_primenumber(a, b):\n",
    "    list = []\n",
    "    for i in range(a, b+1):\n",
    "        prime = True\n",
    "        if(i < 2):\n",
    "            prime = False\n",
    "        for j in range(2, i):\n",
    "            if(i % j == 0):\n",
    "                prime = False\n",
    "        if(prime):\n",
    "            list.append(i)\n",
    "    print('{0} 이상 {1} 이하 정수 중 소수 리스트: {2}'.format(a, b, list))\n",
    "print_primenumber(5, 50)"
   ]
  },
  {
   "cell_type": "markdown",
   "id": "62b10ef4",
   "metadata": {},
   "source": [
    "1. 새로운 비어있는 리스트 list를 생성합니다.\n",
    "2. for문을 사용하여 a부터 b까지 범위를 설정합니다.\n",
    "3. 소수인지 판별할 prime을 생성합니다.\n",
    "4. 만약 i가 2보다 작으면 prime은 소수가 아니므로 False\n",
    "5. 만약 i가 2이상 i미만의 값 중에서 나누어 지는 값이 있다면 prime은 False\n",
    "6. prime이 True이면 list에 i값을 추가합니다.\n",
    "7. format을 사용하여 a, b, list값을 출력하여 줍니다."
   ]
  },
  {
   "cell_type": "markdown",
   "id": "7a07f451",
   "metadata": {},
   "source": [
    "### [Incremental Project 문제]\n",
    "웹 URL로 지정된 웹페이지를 문자열로 가져와 1) 모든 HTML 태그를 제외한 순수 텍스트 문자열만을 걸러내고, 2) 그 순수 텍스트 문자열 안에 존재하는 단어가 총 몇개인지 출력하는 프로그램을 작성하시오.¶"
   ]
  },
  {
   "cell_type": "code",
   "execution_count": 71,
   "id": "d78232f1",
   "metadata": {},
   "outputs": [],
   "source": [
    "import requests\n",
    "\n",
    "req = requests.get('http://cse.koreatech.ac.kr')\n",
    "\n",
    "source = req.text"
   ]
  },
  {
   "cell_type": "code",
   "execution_count": 100,
   "id": "df9146f1",
   "metadata": {},
   "outputs": [
    {
     "name": "stdout",
     "output_type": "stream",
     "text": [
      "순수 문자열: \n",
      "['.', 'var i=1 \\n                        function move(){', '!--                                if(i', \"location.href='https://cse.koreatech.ac.kr';\", '}', 'Page Redirection', '사이트 폐쇄 안내.', '특성화 사업 종료로 인한 itcsw.koreatech.ac.kr 사이트가 폐쇄되었습니다.', '잠시후 컴퓨터공학부 홈페이지로 자동 연결 됩니다.', 'If you are not redirected automatically, follow the', 'link to cse.koreatech.ac.kr']\n",
      "문자열 단어 총 개수: 38개\n"
     ]
    }
   ],
   "source": [
    "# print(source)\n",
    "\n",
    "list = source.split('<')\n",
    "l = []\n",
    "for i in range(len(list)):\n",
    "    if(list[i].find('>')>0):\n",
    "        if(len(list[i].strip())!=(list[i].find('>')+1)):\n",
    "            l.append(list[i].split('>')[1])\n",
    "    else:\n",
    "        l.append(list[i])\n",
    "\n",
    "s = []        \n",
    "for j in range(len(l)):\n",
    "    a = l[j].strip()\n",
    "    s.append(a)\n",
    "print('순수 문자열: ')  \n",
    "print(s)   \n",
    "\n",
    "result = []   \n",
    "for j in range(len(l)):\n",
    "    a = l[j].split()\n",
    "    for k in range(len(a)):\n",
    "        result.append(a[k])\n",
    "\n",
    "print('문자열 단어 총 개수: {0}개'.format(len(result)))"
   ]
  },
  {
   "cell_type": "code",
   "execution_count": 101,
   "id": "86fcf090",
   "metadata": {},
   "outputs": [
    {
     "name": "stdout",
     "output_type": "stream",
     "text": [
      "순수 문자열: \n",
      "['', '넥슨', 'var osname = \\'\\';\\r\\n        var osversion = \\'\\';\\r\\n        var browsername = \\'\\';        \\r\\n        var browserversion = 0;\\r\\n\\t\\ttry {\\r\\n\\t\\t\\tvar agent = new UAParser().getResult();\\r\\n\\t\\t\\tif (agent) {\\r\\n\\t\\t\\t\\tosname = agent.os.name;\\t\\t\\t\\t\\r\\n\\t\\t\\t\\tosversion = agent.os.version;\\r\\n                browsername = agent.browser.name;\\r\\n\\t\\t\\t\\tbrowserversion = agent.browser.version;\\r\\n\\t\\t\\t}\\r\\n\\t\\t} catch (e) {\\r\\n\\t\\t\\tvar agent = navigator.userAgent.toLowerCase();\\r\\n\\t\\t\\tif (agent.indexOf(\\'windows\\') != -1) osname = \\'Windows\\';\\r\\n\\t\\t\\tif (agent.indexOf(\\'windows nt 5.1\\') != -1) osversion = \\'XP\\';\\r\\n\\t\\t\\tif (agent.indexOf(\\'windows nt 6.1\\') != -1) osversion = \\'7\\';\\r\\n            if (agent.indexOf(\\'windows nt 6.2\\') != -1) osversion = \\'8\\';\\r\\n\\r\\n\\t\\t\\tif ((navigator.appName == \\'Netscape\\' && agent.indexOf(\\'trident\\') != -1) || (agent.indexOf(\"msie\") != -1)) browsername = \\'IE\\';\\r\\n            if (agent.indexOf(\\'msie 7.0\\') != -1) browserversion = 7;\\r\\n            if (agent.indexOf(\\'trident/4.0\\') != -1) browserversion = 8;\\r\\n            if (agent.indexOf(\\'trident/5.0\\') != -1) browserversion = 9;\\r\\n            if (agent.indexOf(\\'trident/6.0\\') != -1) browserversion = 10;\\r\\n\\t\\t}\\r\\n\\r\\n        if (osname == \\'Windows\\'\\r\\n            && (osversion == \\'7\\' || osversion == \\'8\\')\\r\\n            && browsername == \\'IE\\'\\r\\n            && (browserversion == 8 || browserversion == 9 || browserversion == 10)) {\\r\\n\\t\\t\\tif ($OASIS.Cookie.get(\\'VULGuide\\') != \\'1\\') {\\r\\n\\t\\t\\t\\tdocument.location.href = \\'https://www.nexon.com/Home/VulnerabilityGuide\\';\\r\\n\\t\\t\\t}\\r\\n\\t\\t} else {\\r\\n            if ((osname == \\'Windows\\' && osversion == \\'XP\\')\\r\\n                || (browsername == \\'IE\\' && (browserversion == 7 || browserversion == 8 || browserversion == 9))) {\\r\\n\\t\\t\\t\\tif ($OASIS.Cookie.get(\\'VUL\\') != \\'1\\') {\\r\\n\\t\\t\\t\\t\\tdocument.location.href = \\'https://www.nexon.com/Home/Vulnerability\\';\\r\\n\\t\\t\\t\\t}\\r\\n            }\\r\\n        }', '!--', \"function AppleTPA() {\\r\\n            var agent = new UAParser().getResult();\\r\\n            if (agent.browser.name == 'IE' && agent.browser.version\", \"= 10) {\\r\\n                if (confirm('IE 10 이하 버전의 인터넷 익스플로러에서는 Apple 로그인이 정상 작동하지 않을 수 있습니다.\\\\r\\\\n로그인이 원활하지 않을 경우 인터넷 익스플로러를 최신 버전으로 업데이트하여 주세요.')) {\\r\\n                    NgbLogin.LoginApple(document.location);\\r\\n                }\\r\\n            } else {\\r\\n                NgbLogin.LoginApple(document.location);\\r\\n            }\\r\\n        }\", 'skip to contents', '배너', '추천게임', '고객센터', '보안센터', '내가 플레이하는 게임을 직접 관리할 수 있어요!', 'MY게임 설정하기', 'NEXON', 'ID 로그인', '일회용 로그인', 'QR 로그인', '다른 계정 간편 로그인', 'google', 'facebook', 'naver', 'apple', '넥슨 ID찾기', '비밀번호 찾기', '회원가입', '캐시/보안', 'MY게임 소식', '캐시', '넥슨캐시', '-', '플레이포인트', '넥슨플레이 앱에서 이벤트를 통해 적립되는', '포인트입니다.', '넥슨플레이 소개보기', '-', '충전', '자동충전', '최대 +5%', '보안', '?', '등급', '-', '보안센터', 'MY게임 소식', 'MY게임 설정', '신규게임', '전체게임', 'filter', '섬네일형', '리스트형', '게임을 한 눈에 볼 수 있는 뷰 타입으로 변경해보세요.', 'search', 'filter', '#전체', 'PC게임', '모바일게임', '모바일게임', '커뮤니티 모아보기', '더보기', 'NEXON youtube', 'NEXON twitter', 'NEXON facebook', '이용약관', '개인정보처리방침', '청소년보호정책', '게임IP사용가이드', '게임시간선택제', '고객센터', '전체서비스', '회사소개', '채용안내', '윤리경영', 'LEVEL UP(넥슨폰트)', '광고문의', '넥슨PC방', 'Korea', 'Global', 'Thailand', 'Taiwan', 'Korea', 'Japan', '㈜넥슨코리아 대표이사 이정헌', '경기도 성남시 분당구 판교로 256번길 7', '전화 : 1588-7701', '팩스 : 0502-258-8322', 'E-mail : contact-us@nexon.co.kr', '사업자등록번호 : 220-87-17483호', '통신판매업 신고번호 : 제2013-경기성남-1659호', '사업자정보확인', '© NEXON Korea Corporation All Rights Reserved.', 'NEXON', 'MY게임 설정하기', '최대 3개의 MY게임 설정이 가능하며, 게임 바로가기 영역에 추가됩니다.', '자동설정', '직접설정', '최근 플레이한 게임이 자동으로 업데이트됩니다.', '(오늘 플레이한 게임은 내일 확인 가능합니다.)', '최근 플레이한 게임이 없습니다.', '초기화', '취소', '설정완료', 'MY게임 설정 닫기', '최대 3개까지 선택 가능합니다.', 'document.domain = \"nexon.com\";\\r\\n\\t\\tfunction setA2SLog($target) {\\r\\n\\t\\t\\ttry {\\r\\n\\t\\t\\t\\tvar agent = new UAParser().getResult();\\r\\n\\t\\t\\t\\t$target.find(\"[a2s]\").each(function () {\\r\\n\\t\\t\\t\\t\\tif ($(this).attr(\"a2s\") == \"exposure\" && !$(this).is(\":hidden\"))\\r\\n\\t\\t\\t\\t\\t\\t$h.a2s.sendContentsLog($(this).attr(\"obj\"), $(this).attr(\"opt\"));\\r\\n\\t\\t\\t\\t\\t$(this).click(function () {\\r\\n\\t\\t\\t\\t\\t\\t$h.a2s.sendClickLog($(this).attr(\"obj\"), $(this).attr(\"opt\"));\\r\\n\\t\\t\\t\\t\\t});\\r\\n\\t\\t\\t\\t});\\r\\n\\t\\t\\t} catch (e) {\\r\\n\\t\\t\\t\\t$target.find(\"[a2s]\").each(function () {\\r\\n\\t\\t\\t\\t\\tif ($(this).attr(\"a2s\") == \"exposure\" && !$(this).is(\":hidden\"))\\r\\n\\t\\t\\t\\t\\t\\t$h.a2s.sendContentsLog($(this).attr(\"obj\"), $(this).attr(\"opt\"));\\r\\n\\t\\t\\t\\t\\t$(this).click(function () {\\r\\n\\t\\t\\t\\t\\t\\t$h.a2s.sendClickLog($(this).attr(\"obj\"), $(this).attr(\"opt\"));\\r\\n\\t\\t\\t\\t\\t});\\r\\n\\t\\t\\t\\t});\\r\\n\\t\\t\\t}\\r\\n\\t\\t}\\r\\n\\t\\tvar chkFit = 0;\\r\\n\\t\\tvar itVal = setInterval(function () {\\r\\n\\t\\t\\tchkFit = chkFit + 1;\\r\\n\\t\\t\\tvar endedCount = 9;\\r\\n\\t\\t\\tif (NgbMember.IsLogin()) {\\r\\n\\t\\t\\t\\tendedCount = 13;\\r\\n\\t\\t\\t}\\r\\n\\t\\t\\tif (chkFit']\n",
      "문자열 단어 총 개수: 523개\n"
     ]
    }
   ],
   "source": [
    "req2 = requests.get('https://www.nexon.com/Home/Game')\n",
    "\n",
    "source2 = req2.text\n",
    "\n",
    "list2 = source2.split('<')\n",
    "l = []\n",
    "for i in range(len(list2)):\n",
    "    if(list2[i].find('>')>0):\n",
    "        if(len(list2[i].strip())!=(list2[i].find('>')+1)):\n",
    "            l.append(list2[i].split('>')[1])\n",
    "    else:\n",
    "        l.append(list2[i])\n",
    "s = []        \n",
    "for j in range(len(l)):\n",
    "    a = l[j].strip()\n",
    "    s.append(a)\n",
    "print('순수 문자열: ')  \n",
    "print(s)   \n",
    "\n",
    "result = []   \n",
    "for j in range(len(l)):\n",
    "    a = l[j].split()\n",
    "    for k in range(len(a)):\n",
    "        result.append(a[k])\n",
    "\n",
    "print('문자열 단어 총 개수: {0}개'.format(len(result)))"
   ]
  },
  {
   "cell_type": "markdown",
   "id": "6b0418e2",
   "metadata": {},
   "source": [
    "1. 먼저 source를 '<'를 기준으로 잘라서 list에 저장합니다.\n",
    "2. 빈 리스트 l을 생성하고 만약 list[i]에 '>'가 있으면 다시 if문을 사용해 '>'가 문자열 중간에 있으면 앞에 부분은 버리고 뒤에 부분만 l에 저장합니다.\n",
    "3. 빈 리스트 s를 생성하고 for문을 사용해 l의 양 끝의 공백을 없앤 뒤 s에 추가해준 뒤 출력해 줍니다.(순수 문자열)\n",
    "4. 빈 리스트 result를 생성하고 for문을 사용해 모든 리스트값들을 공백을 기준으로 잘라 저장해 줍니다.\n",
    "5. len을 사용해 리스트의 목록 개수를 출력해 줍니다.\n",
    "\n",
    "### 소감\n",
    "처음 과제를 할 때는 문자열 메소드가 낯설었는데 과제를 끝내고 나니 문자열 메소드가 더 쉽게 느껴졌습니다. 일반문제들은 어렵지 않게 풀 수 있었는데 Incremental Project 문제는 조금 어려었던 것 같습니다. 그래도 처음 풀 때는 막막했지만 풀다보니 어느정도 실마리가 잡혀 나름대로 풀 수 있었습니다. 이번 과제를 하면서 문자열 메소드를 사용하는 법을 공부해 익숙해 진 것 같습니다. "
   ]
  }
 ],
 "metadata": {
  "kernelspec": {
   "display_name": "Python 3",
   "language": "python",
   "name": "python3"
  },
  "language_info": {
   "codemirror_mode": {
    "name": "ipython",
    "version": 3
   },
   "file_extension": ".py",
   "mimetype": "text/x-python",
   "name": "python",
   "nbconvert_exporter": "python",
   "pygments_lexer": "ipython3",
   "version": "3.8.8"
  }
 },
 "nbformat": 4,
 "nbformat_minor": 5
}

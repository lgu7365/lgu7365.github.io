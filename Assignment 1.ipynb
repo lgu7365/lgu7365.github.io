{
 "cells": [
  {
   "cell_type": "markdown",
   "id": "3f6fb009",
   "metadata": {},
   "source": [
    "# Assignment 1"
   ]
  },
  {
   "cell_type": "markdown",
   "id": "3dd17e4f",
   "metadata": {},
   "source": [
    "## 1. a=\"Hello Python\" 문자열을 Slicing과 연결 연산자 (+)를 사용하여 \"Python Hello\"로 변경하시오.\n",
    "[주의] a 변수 자체에 \"Python Hello\" 문자열이 저장되어야 함"
   ]
  },
  {
   "cell_type": "code",
   "execution_count": 5,
   "id": "231f410a",
   "metadata": {},
   "outputs": [
    {
     "name": "stdout",
     "output_type": "stream",
     "text": [
      "Python Hello\n"
     ]
    }
   ],
   "source": [
    "a = \"Hello Python\"\n",
    "x = a[0:5]\n",
    "y = a[6:12]\n",
    "a = y + \" \" + x\n",
    "print(a)"
   ]
  },
  {
   "cell_type": "markdown",
   "id": "5a94e56d",
   "metadata": {},
   "source": [
    "슬라이싱을 이용해 x와 y라는 변수에 각각 \"Hello\"와 \"Python\"을 저장하고 다시 a에 y + \" \" + x 를 대입하여 a에 \"Python Hello\"을 저장합니다."
   ]
  },
  {
   "cell_type": "markdown",
   "id": "124f5ad6",
   "metadata": {},
   "source": [
    "## 2. b=\"Hello Python World\" 문자열을 Slicing과 연결 연산자 (+)를 사용하여 \"World Python Hello\"로 변경하시오.\n",
    "[주의] b 변수 자체에 \"World Python Hello\" 문자열이 저장되어야 함"
   ]
  },
  {
   "cell_type": "code",
   "execution_count": 6,
   "id": "c2b41bae",
   "metadata": {},
   "outputs": [
    {
     "name": "stdout",
     "output_type": "stream",
     "text": [
      "World Python Hello\n"
     ]
    }
   ],
   "source": [
    "b = \"Hello Python World\"\n",
    "x = b[0:5]\n",
    "y = b[6: 12]\n",
    "z = b[13:18]\n",
    "b = z + \" \" + y + \" \" + x\n",
    "print(b)"
   ]
  },
  {
   "cell_type": "markdown",
   "id": "ec7a1857",
   "metadata": {},
   "source": [
    "슬라이싱을 이용해 x, y, z에 각각 \"Hello\", \"Python\", \"World\"를 저장하고 다시 b에 z + \" \" + y + \" \" + x를 대입하여 b에 \"World Python Hello\"을 저장합니다"
   ]
  },
  {
   "cell_type": "markdown",
   "id": "9fdb78ce",
   "metadata": {},
   "source": [
    "## 3. c=\"Hello\"를 \"olleH\"로 변경하시오\n",
    "[주의] c 변수 자체에 \"olleH\" 문자열이 저장되어야 함"
   ]
  },
  {
   "cell_type": "code",
   "execution_count": 42,
   "id": "01ed0a94",
   "metadata": {},
   "outputs": [
    {
     "name": "stdout",
     "output_type": "stream",
     "text": [
      "olleH\n"
     ]
    }
   ],
   "source": [
    "c = \"Hello\"\n",
    "c = c[::-1]\n",
    "print(c)"
   ]
  },
  {
   "cell_type": "markdown",
   "id": "b7fc17ec",
   "metadata": {},
   "source": [
    "c[::-1]로 c가 역순으로 1씩 이동하며 나열되기 때문에 c에 \"olleH\"가 입력됩니다."
   ]
  },
  {
   "cell_type": "markdown",
   "id": "459d9ced",
   "metadata": {},
   "source": [
    "## 4. s=\"python\"에 대해 다음 문제를 풀어보시오.\n",
    "> A. s[0], s[0][0], s[0][0][0]은 각각 어떤 값이 나오는지 확인하고 그 이유를 나름대로 설명해 보시오.  \n",
    "B. s[-100], s[100]은 값이 나오는지 에러가 나오는지 확인하고 그 결과에 대한 이유를 나름대로 설명해 보시오.  \n",
    "C. s[-100, 100]은 값이 나오는지 에러가 나오는지 확인하고 그 결과에 대한 이유를 나름대로 설명해 보시오.  \n",
    "D. s[1:-1]의 결과를 확인하고 그 결과에 대한 이유를 정확하게 설명하시오.  \n",
    "E. s[3:-3]의 결과를 확인하고 그 결과에 대한 이유를 정확하게 설명하시오.  "
   ]
  },
  {
   "cell_type": "code",
   "execution_count": 4,
   "id": "37f7aa23",
   "metadata": {},
   "outputs": [
    {
     "name": "stdout",
     "output_type": "stream",
     "text": [
      "P P P\n"
     ]
    }
   ],
   "source": [
    "s = \"Python\"\n",
    "print(s[0], s[0][0], s[0][0][0])"
   ]
  },
  {
   "cell_type": "markdown",
   "id": "6ea33482",
   "metadata": {},
   "source": [
    "s[0]은 리스트에서 첫번째를 출력하므로 Python에서 가장 앞에 있는 P가 출력됩니다.  \n",
    "s[0][0]은 리스트 s에서 첫번째인 P에서 다시 첫번째를 출력하므로 P가 출력됩니다.  \n",
    "s[0][0][0]은 리스트 s에서 첫번째인 P에서 다시 첫번째인 P에서 다시 첫번째를 출력하므로 P가 출력됩니다."
   ]
  },
  {
   "cell_type": "code",
   "execution_count": 16,
   "id": "56888377",
   "metadata": {},
   "outputs": [
    {
     "ename": "IndexError",
     "evalue": "string index out of range",
     "output_type": "error",
     "traceback": [
      "\u001b[1;31m---------------------------------------------------------------------------\u001b[0m",
      "\u001b[1;31mIndexError\u001b[0m                                Traceback (most recent call last)",
      "\u001b[1;32m<ipython-input-16-751fe7c0b95d>\u001b[0m in \u001b[0;36m<module>\u001b[1;34m\u001b[0m\n\u001b[1;32m----> 1\u001b[1;33m \u001b[0mprint\u001b[0m\u001b[1;33m(\u001b[0m\u001b[0ms\u001b[0m\u001b[1;33m[\u001b[0m\u001b[1;33m-\u001b[0m\u001b[1;36m100\u001b[0m\u001b[1;33m]\u001b[0m\u001b[1;33m,\u001b[0m \u001b[0ms\u001b[0m\u001b[1;33m[\u001b[0m\u001b[1;36m100\u001b[0m\u001b[1;33m]\u001b[0m\u001b[1;33m)\u001b[0m\u001b[1;33m\u001b[0m\u001b[1;33m\u001b[0m\u001b[0m\n\u001b[0m",
      "\u001b[1;31mIndexError\u001b[0m: string index out of range"
     ]
    }
   ],
   "source": [
    "print(s[-100], s[100])"
   ]
  },
  {
   "cell_type": "markdown",
   "id": "3e227f6d",
   "metadata": {},
   "source": [
    "s의 인덱스 범위는 -6부터 5까지 이므로 100과 -100은 범위 밖이므로 에러가 나옵니다."
   ]
  },
  {
   "cell_type": "code",
   "execution_count": 19,
   "id": "60f16578",
   "metadata": {},
   "outputs": [
    {
     "ename": "TypeError",
     "evalue": "string indices must be integers",
     "output_type": "error",
     "traceback": [
      "\u001b[1;31m---------------------------------------------------------------------------\u001b[0m",
      "\u001b[1;31mTypeError\u001b[0m                                 Traceback (most recent call last)",
      "\u001b[1;32m<ipython-input-19-c209b42beee1>\u001b[0m in \u001b[0;36m<module>\u001b[1;34m\u001b[0m\n\u001b[1;32m----> 1\u001b[1;33m \u001b[0mprint\u001b[0m\u001b[1;33m(\u001b[0m\u001b[0ms\u001b[0m\u001b[1;33m[\u001b[0m\u001b[1;33m-\u001b[0m\u001b[1;36m100\u001b[0m\u001b[1;33m,\u001b[0m \u001b[1;36m100\u001b[0m\u001b[1;33m]\u001b[0m\u001b[1;33m)\u001b[0m\u001b[1;33m\u001b[0m\u001b[1;33m\u001b[0m\u001b[0m\n\u001b[0m",
      "\u001b[1;31mTypeError\u001b[0m: string indices must be integers"
     ]
    }
   ],
   "source": [
    "print(s[-100, 100])"
   ]
  },
  {
   "cell_type": "markdown",
   "id": "250f0feb",
   "metadata": {},
   "source": [
    "문자열 인덱스에는 정수가 들어가야 하므로 다음과 같이 \",\"가 들어가면 에러가 납니다."
   ]
  },
  {
   "cell_type": "code",
   "execution_count": 21,
   "id": "1513b4b2",
   "metadata": {},
   "outputs": [
    {
     "name": "stdout",
     "output_type": "stream",
     "text": [
      "ytho\n"
     ]
    }
   ],
   "source": [
    "print(s[1:-1])"
   ]
  },
  {
   "cell_type": "markdown",
   "id": "4fe12f09",
   "metadata": {},
   "source": [
    "s[1:-1]은 s의 두번째부터 마지막글자 전까지만 출력하라는 의미이므로 \"ytho\"이 출력됩니다."
   ]
  },
  {
   "cell_type": "code",
   "execution_count": 22,
   "id": "5a550d8e",
   "metadata": {},
   "outputs": [
    {
     "name": "stdout",
     "output_type": "stream",
     "text": [
      "\n"
     ]
    }
   ],
   "source": [
    "print(s[3:-3])"
   ]
  },
  {
   "cell_type": "markdown",
   "id": "b936e3c4",
   "metadata": {},
   "source": [
    "s[3:-3]은 s의 4번째부터 s의 뒤에서 3번째 전까지 출력하라는 의미이므로 s에서는 4번째부터 4번째 전까지 출력하라는 의미이므로 아무것도 출력되지 않습니다."
   ]
  },
  {
   "cell_type": "markdown",
   "id": "272e952a",
   "metadata": {},
   "source": [
    "## 5. for문을 활용하여 1부터 100사이의 홀수를 출력하시오."
   ]
  },
  {
   "cell_type": "code",
   "execution_count": 32,
   "id": "7c964e59",
   "metadata": {},
   "outputs": [
    {
     "name": "stdout",
     "output_type": "stream",
     "text": [
      "1 3 5 7 9 11 13 15 17 19 21 23 25 27 29 31 33 35 37 39 41 43 45 47 49 51 53 55 57 59 61 63 65 67 69 71 73 75 77 79 81 83 85 87 89 91 93 95 97 99 "
     ]
    }
   ],
   "source": [
    "for i in range(1, 101, 2):\n",
    "    print(i, end = \" \")"
   ]
  },
  {
   "cell_type": "markdown",
   "id": "884aed54",
   "metadata": {},
   "source": [
    "1 부터 100사이 이므로 범위를 1이상 101미만으로 한 뒤 1부터 2씩 증가되며 출력되게 하여 홀수를 출력하였습니다."
   ]
  },
  {
   "cell_type": "markdown",
   "id": "6bd0608c",
   "metadata": {},
   "source": [
    "## 6. while문을 활용하여 1부터 100사이의 짝수의 합을 계산하여 출력하시오."
   ]
  },
  {
   "cell_type": "code",
   "execution_count": 24,
   "id": "85ac78c7",
   "metadata": {},
   "outputs": [
    {
     "name": "stdout",
     "output_type": "stream",
     "text": [
      "2550\n"
     ]
    }
   ],
   "source": [
    "sum = 0\n",
    "i = 2\n",
    "while i <= 100:\n",
    "    sum = sum + i\n",
    "    i = i + 2\n",
    "print(sum)    "
   ]
  },
  {
   "cell_type": "markdown",
   "id": "0b4f51a6",
   "metadata": {},
   "source": [
    "i는 초기값으로 2를 주고 while문을 사용해 100이 넘어가지 않을 때까지 2씩 증가시키고 sum에 변화하는 i값을 계속해서 더해줘서 짝수의 합을 계산해 출력하였습니다. "
   ]
  },
  {
   "cell_type": "markdown",
   "id": "58cd3465",
   "metadata": {},
   "source": [
    "## 7. 사용자로 부터 임의의 정수를 입력받고, 해당 숫자를 역순으로 출력하는 프로그램을 작성하시오.\n",
    "\n",
    "[실행 예]\n",
    "\n",
    " 정수를 입력하세요: 3125  \n",
    " 숫자 역순은 5213 입니다."
   ]
  },
  {
   "cell_type": "code",
   "execution_count": 31,
   "id": "a03da2ea",
   "metadata": {},
   "outputs": [
    {
     "name": "stdout",
     "output_type": "stream",
     "text": [
      "정수를 입력하세요: 3125\n",
      "숫자 역순은 5213 입니다.\n"
     ]
    }
   ],
   "source": [
    "n = int(input(\"정수를 입력하세요: \"))\n",
    "result = 0\n",
    "while n != 0:\n",
    "    result = result * 10\n",
    "    result = result + n % 10\n",
    "    n = int(n / 10)\n",
    "print(\"숫자 역순은\",result,\"입니다.\")  "
   ]
  },
  {
   "cell_type": "markdown",
   "id": "f60cfd10",
   "metadata": {},
   "source": [
    "숫자의 역순을 저장할 result를 생성하고 while문을 이용하여 result에 n의 낮은 자리 수부터 하나 씩 채워 역순을 저장해 출력하였습니다."
   ]
  },
  {
   "cell_type": "markdown",
   "id": "4ddc694d",
   "metadata": {},
   "source": [
    "## 8. 사용자로 부터 정수를 입력받아서 1부터 그 사이에 존재하는 소수 (Prime number)를 출력하는 파이썬 프로그램을 작성하시오."
   ]
  },
  {
   "cell_type": "code",
   "execution_count": 35,
   "id": "f268247a",
   "metadata": {},
   "outputs": [
    {
     "name": "stdout",
     "output_type": "stream",
     "text": [
      "정수를 입력하세요: 50\n",
      "2 3 5 7 11 13 17 19 23 29 31 37 41 43 47 "
     ]
    }
   ],
   "source": [
    "n = int(input(\"정수를 입력하세요: \"))\n",
    "for i in range(n+1):\n",
    "    prime = True\n",
    "    if(i < 2):\n",
    "        prime = False\n",
    "    for j in range(2, i):\n",
    "        if(i % j == 0):\n",
    "            prime = False\n",
    "    if(prime):\n",
    "        print(i, end = \" \")       "
   ]
  },
  {
   "cell_type": "markdown",
   "id": "7228c2be",
   "metadata": {},
   "source": [
    "먼저 정수를 입력받고 0부터 입력받은 수까지 반복문을 작성합니다. 그 후 소수인지 판별하는 prime이라는 변수를 생성해 소수이면 True, 소수가 아니면 False를 입력받습니다. 먼저 2보다 작은 수는 소수가 없기 때문에 False로 해준 뒤 그 후 1과 자기자신 외에 다른 수로 나누어 지는지 판별하여 나누어 지는 수가 있으면 prime에 False를 넣어 줍니다. 이런 반복문을 끝낸 뒤에 prime이 True인 수만을 출력하여 줍니다."
   ]
  },
  {
   "cell_type": "markdown",
   "id": "e78c1c66",
   "metadata": {},
   "source": [
    "## 9. Kevin과 Stuart는 게임을 한다. 규칙은 아래와 같다.\n",
    "\n",
    "* 두 플레이어에게 같은 string, S, 가 주어진다.  \n",
    "* 두 플레이어는 string S의 문자를 사용하여 substring을 만들어야 한다(중복 가능).  \n",
    "* Stuart는 자음으로 시작하는 단어를 만들어야 한다.  \n",
    "* Kevin은 모음으로 시작하는 단어를 만들어야 한다.  \n",
    "* 게임은 두 플레이어가 만들 수 있는 모든 단어를 만들었을 때 끝난다.  \n",
    "* 점수 계산 : substring 1개당 +1 점을 획득한다. (아래 그림 참고)\n",
    "<img src=\"https://nbviewer.jupyter.org/github/linklab/supercharged_python/blob/master/assignment2021/image/assignment1-9.png\" width=\"450px\" height=\"300px\" title=\"px(픽셀) 크기 설정\" alt=\"RubberDuck\"></img><br/>\n",
    "* 사용자로 부터 대문자로 이루어진 string S를 입력받고, 승자와 그의 점수를 출력하는 프로그램을 작성하시오.\n",
    "\n",
    "[실행 예]\n",
    "\n",
    "  string S를 입력하세요: BANANA  \n",
    "  승자: Stuart 점수: 12"
   ]
  },
  {
   "cell_type": "code",
   "execution_count": 9,
   "id": "7a535b1a",
   "metadata": {},
   "outputs": [
    {
     "name": "stdout",
     "output_type": "stream",
     "text": [
      "string S를 입력하세요: BANANA\n",
      "승자: Stuart 점수: 12\n"
     ]
    }
   ],
   "source": [
    "S = input(\"string S를 입력하세요: \")\n",
    "score_S = 0\n",
    "score_K = 0\n",
    "for i in range(len(S)):\n",
    "    if(S[i] == \"A\" or S[i] == \"E\" or S[i] == \"I\" or S[i] == \"O\" or S[i] == \"U\"):\n",
    "        score_K = score_K + len(S) - i \n",
    "    else:\n",
    "        score_S = score_S + len(S) - i\n",
    "if(score_S > score_K):\n",
    "    print(\"승자: Stuart 점수:\", score_S)\n",
    "elif(score_S < score_K):\n",
    "    print(\"승자: Kevin 점수:\", score_K)\n",
    "else:\n",
    "    print(\"무승부\")"
   ]
  },
  {
   "cell_type": "markdown",
   "id": "1f5e0aeb",
   "metadata": {},
   "source": [
    "먼저 S에 대문자로 이루어진 string S를 입력받고 두 플레이어의 점수를 저장할 score_S와 score_K를 생성합니다.  \n",
    "그리고 for문으로 문자열의 길이를 이용해 반복문을 만들고 S[i]가 모음일 경우 score_K에 문자열의 길이에서 i의 값을 뺀 값을 더해줍니다.  \n",
    "자음인 경우도 똑같이 score_S에 더해 둘의 점수를 각각 구해준 뒤 두 점수를 비교하여 승자와 점수를 출력하였습니다."
   ]
  },
  {
   "cell_type": "markdown",
   "id": "08086d38",
   "metadata": {},
   "source": [
    "## 10. 알파벳 소문자만으로 이루어진 string, S, 가 주어지고 아래 2가지 연산을 수행할 수 있다.\n",
    "* 추가 : string S의 끝에 알파벳 소문자 하나를 추가한다.  \n",
    "* 삭제 : string S의 마지막 문자 하나를 삭제한다. empty string에서 삭제 연산을 수행한 결과는 empty string이다.  \n",
    "두 개의 string, s와 t, 그리고 정수 k가 주어질 때, 정확히 k번의 연산을 통해 s를 t로 바꿀 수 있는지 판단하는 함수를 작성하시오. "
   ]
  },
  {
   "cell_type": "code",
   "execution_count": 51,
   "id": "f08ae7da",
   "metadata": {},
   "outputs": [
    {
     "name": "stdout",
     "output_type": "stream",
     "text": [
      "Yes Yes No\n"
     ]
    }
   ],
   "source": [
    "def appendDelete(s, t, k):\n",
    "    n = 0\n",
    "    if len(s) >= len(t):\n",
    "        l = len(t)\n",
    "    else:\n",
    "        l = len(s)\n",
    "    if s == t:\n",
    "        n = 0\n",
    "    else:\n",
    "        for i in range(l):\n",
    "            if(s[i] != t[i]):\n",
    "                n = len(s) + len(t) - 2 * i\n",
    "                break  \n",
    "            elif(i == l - 1):\n",
    "                if(len(s) >= len(t)):\n",
    "                    n = len(s) - len(t)\n",
    "                else:\n",
    "                    n = len(t) - len(s)\n",
    "    if(k >= len(s)+len(t)):\n",
    "        return 'Yes'\n",
    "    elif((k >= n) and ((k - n) % 2 == 0)):\n",
    "        return 'Yes'\n",
    "    else:\n",
    "        return 'No'\n",
    "print(appendDelete(\"hackerhappy\", \"hackerrank\", 9), appendDelete(\"aba\", \"aba\", 7), appendDelete(\"ashley\", \"ash\", 2))"
   ]
  },
  {
   "cell_type": "markdown",
   "id": "fefc2c28",
   "metadata": {},
   "source": [
    "1. 먼저 s를 t로 바꾸는데 최소 연산 수를 저장할 n을 생성\n",
    "2. 둘 중에 더 적은 글자수를 l에 저장하고 for문을 생성\n",
    "3. 두 문자열이 같은 경우는 이미 s와 t가 같기 때문에 n은 0\n",
    "4. for문을 사용해 두 문자열이 다를 때 if문을 사용해 n에 최소 연산 수 저장, 또는 하나의 문자열이 끝날 때까지 다른 문자가 없을 경우 n에는 두 문자열의 길이의 차를 넣어줍니다.\n",
    "5. 만약 두 글자수의 합보다 k가 크면 s를 empty로 만든 뒤 t의 글자수에 맞춰 추가를 해주면 되므로 이 경우엔 yes\n",
    "6. 또는 k가 n보다 크고 (k-n) 즉 s를 t로 만든 뒤 남은 연산 수가 짝수이면 추가와 삭제를 반복하여 만들면 되므로 yes\n",
    "7. 위의 두 경우가 아닌 경우에는 NO\n",
    "\n",
    "### 소감\n",
    "이번 과제를 통해 주피터 노트북을 통한 파이썬을 더 잘 알게 되었고 주피터 노트북에 Markdown이라는 기능을 통해 설명과 제목, 사진 등 여러가지를 사용하여 자연스럽게 만들 수 있다는 것을 알게 되었습니다. 문제 자체는 그리 어렵지 않았지만 기존에 다루어보지 못한 주피터 노트북의 기능을 사용하는 것과 깃허브를 사용하는 점에서 어려움이 있었습니다. 또한 과제를 하면서 파이썬이 기존에 학습했던 C나 C++보다 더 간편하고 편리한 프로그램 언어라는 것을 더욱 느끼게 되었습니다."
   ]
  }
 ],
 "metadata": {
  "kernelspec": {
   "display_name": "Python 3",
   "language": "python",
   "name": "python3"
  },
  "language_info": {
   "codemirror_mode": {
    "name": "ipython",
    "version": 3
   },
   "file_extension": ".py",
   "mimetype": "text/x-python",
   "name": "python",
   "nbconvert_exporter": "python",
   "pygments_lexer": "ipython3",
   "version": "3.8.8"
  }
 },
 "nbformat": 4,
 "nbformat_minor": 5
}

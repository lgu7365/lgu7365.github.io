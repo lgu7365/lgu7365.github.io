{
 "cells": [
  {
   "cell_type": "markdown",
   "id": "e283524c",
   "metadata": {},
   "source": [
    "# Assignment 3\n",
    "2020136093 이건우"
   ]
  },
  {
   "cell_type": "markdown",
   "id": "dea98d8e",
   "metadata": {},
   "source": [
    "## 1. L=[1, 2, 3, 4, 5]일 때 다음 각 문장을 수행한 후의 결과를 보고 납득할 만한 이유를 설명하시오.\n",
    "+ 1)  \n",
    "      L[1:3] = [100]  \n",
    "      print(L)\n",
    "+ 2)  \n",
    "      L[1:3] = [(100)]  \n",
    "      print(L)  \n",
    "+ 3)  \n",
    "      L[1:3] = 100  \n",
    "      print(L)  \n",
    "+ 4)  \n",
    "      L[1:3] = (100)  \n",
    "      print(L)  \n",
    "+ 5)  \n",
    "      L[1:3] = (100, 101, 102)  \n",
    "      print(L)  \n",
    "+ 6)  \n",
    "      L[1:3] = [100, 101, 102]  \n",
    "      print(L)  \n",
    "+ 7)  \n",
    "      L[1:3] = [(100, 101, 102)]  \n",
    "      print(L)  \n",
    "+ 8)  \n",
    "      L[1:3] = [[100, 101, 102]]  \n",
    "      print(L)"
   ]
  },
  {
   "cell_type": "code",
   "execution_count": 1,
   "id": "ac8380b0",
   "metadata": {},
   "outputs": [
    {
     "name": "stdout",
     "output_type": "stream",
     "text": [
      "[1, 100, 4, 5]\n"
     ]
    }
   ],
   "source": [
    "L = [1, 2, 3, 4, 5]\n",
    "L[1:3] = [100]\n",
    "print(L)"
   ]
  },
  {
   "cell_type": "markdown",
   "id": "c9299685",
   "metadata": {},
   "source": [
    "L[1:3]을 하면 리스트 [2,3]이 잘리고 이 부분을 리스트 [100]으로 대체하였기 때문에 이러한 결과가 나오게 됩니다."
   ]
  },
  {
   "cell_type": "code",
   "execution_count": 2,
   "id": "a2117673",
   "metadata": {},
   "outputs": [
    {
     "name": "stdout",
     "output_type": "stream",
     "text": [
      "[1, 100, 4, 5]\n"
     ]
    }
   ],
   "source": [
    "L = [1, 2, 3, 4, 5]\n",
    "L[1:3] = [(100)]  \n",
    "print(L)  "
   ]
  },
  {
   "cell_type": "markdown",
   "id": "3a677b69",
   "metadata": {},
   "source": [
    "[(100)]은 리스트 안에 (100)인 int형 정수가 들어와 있는 것이므로 앞의 문제와 같이 출력됩니다."
   ]
  },
  {
   "cell_type": "code",
   "execution_count": 3,
   "id": "30fa8a32",
   "metadata": {},
   "outputs": [
    {
     "ename": "TypeError",
     "evalue": "can only assign an iterable",
     "output_type": "error",
     "traceback": [
      "\u001b[1;31m---------------------------------------------------------------------------\u001b[0m",
      "\u001b[1;31mTypeError\u001b[0m                                 Traceback (most recent call last)",
      "\u001b[1;32m<ipython-input-3-9b9d3c471e93>\u001b[0m in \u001b[0;36m<module>\u001b[1;34m\u001b[0m\n\u001b[0;32m      1\u001b[0m \u001b[0mL\u001b[0m \u001b[1;33m=\u001b[0m \u001b[1;33m[\u001b[0m\u001b[1;36m1\u001b[0m\u001b[1;33m,\u001b[0m \u001b[1;36m2\u001b[0m\u001b[1;33m,\u001b[0m \u001b[1;36m3\u001b[0m\u001b[1;33m,\u001b[0m \u001b[1;36m4\u001b[0m\u001b[1;33m,\u001b[0m \u001b[1;36m5\u001b[0m\u001b[1;33m]\u001b[0m\u001b[1;33m\u001b[0m\u001b[1;33m\u001b[0m\u001b[0m\n\u001b[1;32m----> 2\u001b[1;33m \u001b[0mL\u001b[0m\u001b[1;33m[\u001b[0m\u001b[1;36m1\u001b[0m\u001b[1;33m:\u001b[0m\u001b[1;36m3\u001b[0m\u001b[1;33m]\u001b[0m \u001b[1;33m=\u001b[0m \u001b[1;36m100\u001b[0m\u001b[1;33m\u001b[0m\u001b[1;33m\u001b[0m\u001b[0m\n\u001b[0m\u001b[0;32m      3\u001b[0m \u001b[0mprint\u001b[0m\u001b[1;33m(\u001b[0m\u001b[0mL\u001b[0m\u001b[1;33m)\u001b[0m\u001b[1;33m\u001b[0m\u001b[1;33m\u001b[0m\u001b[0m\n",
      "\u001b[1;31mTypeError\u001b[0m: can only assign an iterable"
     ]
    }
   ],
   "source": [
    "L = [1, 2, 3, 4, 5]\n",
    "L[1:3] = 100  \n",
    "print(L)"
   ]
  },
  {
   "cell_type": "markdown",
   "id": "9cd9d906",
   "metadata": {},
   "source": [
    "100은 int형 자료형이므로 iterable자료형이 아니기 때문에 오류가 납니다."
   ]
  },
  {
   "cell_type": "code",
   "execution_count": 4,
   "id": "eb93500e",
   "metadata": {},
   "outputs": [
    {
     "ename": "TypeError",
     "evalue": "can only assign an iterable",
     "output_type": "error",
     "traceback": [
      "\u001b[1;31m---------------------------------------------------------------------------\u001b[0m",
      "\u001b[1;31mTypeError\u001b[0m                                 Traceback (most recent call last)",
      "\u001b[1;32m<ipython-input-4-e87123e0e50b>\u001b[0m in \u001b[0;36m<module>\u001b[1;34m\u001b[0m\n\u001b[0;32m      1\u001b[0m \u001b[0mL\u001b[0m \u001b[1;33m=\u001b[0m \u001b[1;33m[\u001b[0m\u001b[1;36m1\u001b[0m\u001b[1;33m,\u001b[0m \u001b[1;36m2\u001b[0m\u001b[1;33m,\u001b[0m \u001b[1;36m3\u001b[0m\u001b[1;33m,\u001b[0m \u001b[1;36m4\u001b[0m\u001b[1;33m,\u001b[0m \u001b[1;36m5\u001b[0m\u001b[1;33m]\u001b[0m\u001b[1;33m\u001b[0m\u001b[1;33m\u001b[0m\u001b[0m\n\u001b[1;32m----> 2\u001b[1;33m \u001b[0mL\u001b[0m\u001b[1;33m[\u001b[0m\u001b[1;36m1\u001b[0m\u001b[1;33m:\u001b[0m\u001b[1;36m3\u001b[0m\u001b[1;33m]\u001b[0m \u001b[1;33m=\u001b[0m \u001b[1;33m(\u001b[0m\u001b[1;36m100\u001b[0m\u001b[1;33m)\u001b[0m\u001b[1;33m\u001b[0m\u001b[1;33m\u001b[0m\u001b[0m\n\u001b[0m\u001b[0;32m      3\u001b[0m \u001b[0mprint\u001b[0m\u001b[1;33m(\u001b[0m\u001b[0mL\u001b[0m\u001b[1;33m)\u001b[0m\u001b[1;33m\u001b[0m\u001b[1;33m\u001b[0m\u001b[0m\n",
      "\u001b[1;31mTypeError\u001b[0m: can only assign an iterable"
     ]
    }
   ],
   "source": [
    "L = [1, 2, 3, 4, 5]\n",
    "L[1:3] = (100)  \n",
    "print(L)  "
   ]
  },
  {
   "cell_type": "markdown",
   "id": "603c09c6",
   "metadata": {},
   "source": [
    "3번 문제와 마찬가지로 (100)은 int형 자료형이므로 오류가 납니다."
   ]
  },
  {
   "cell_type": "code",
   "execution_count": 6,
   "id": "c4f95f7e",
   "metadata": {},
   "outputs": [
    {
     "name": "stdout",
     "output_type": "stream",
     "text": [
      "[1, 100, 101, 102, 4, 5]\n"
     ]
    }
   ],
   "source": [
    "L = [1, 2, 3, 4, 5]\n",
    "L[1:3] = (100, 101, 102)  \n",
    "print(L)  "
   ]
  },
  {
   "cell_type": "markdown",
   "id": "13d604be",
   "metadata": {},
   "source": [
    "(100, 101, 102)는 iterable자료형인 튜플 자료형이기 때문에 [2, 3]이 (100, 101, 102)로 바뀌어 출력됩니다."
   ]
  },
  {
   "cell_type": "code",
   "execution_count": 7,
   "id": "f5d7e776",
   "metadata": {},
   "outputs": [
    {
     "name": "stdout",
     "output_type": "stream",
     "text": [
      "[1, 100, 101, 102, 4, 5]\n"
     ]
    }
   ],
   "source": [
    "L = [1, 2, 3, 4, 5]\n",
    "L[1:3] = [100, 101, 102]  \n",
    "print(L)  "
   ]
  },
  {
   "cell_type": "markdown",
   "id": "c4c5a585",
   "metadata": {},
   "source": [
    "1번 문제와 마찬가지로 리스트 [2, 3]이 리스트 [100, 101, 102]로 바뀌어 출력됩니다."
   ]
  },
  {
   "cell_type": "code",
   "execution_count": 8,
   "id": "6483bacc",
   "metadata": {},
   "outputs": [
    {
     "name": "stdout",
     "output_type": "stream",
     "text": [
      "[1, (100, 101, 102), 4, 5]\n"
     ]
    }
   ],
   "source": [
    "L = [1, 2, 3, 4, 5]\n",
    "L[1:3] = [(100, 101, 102)]  \n",
    "print(L)  "
   ]
  },
  {
   "cell_type": "markdown",
   "id": "6112585b",
   "metadata": {},
   "source": [
    "[(100, 101, 102)]는 리스트 안에 튜플이 있는 것이므로 2, 3 자리에 튜플 자료형인 (100, 101, 102)이 들어가게 됩니다."
   ]
  },
  {
   "cell_type": "code",
   "execution_count": 9,
   "id": "c2885c8b",
   "metadata": {},
   "outputs": [
    {
     "name": "stdout",
     "output_type": "stream",
     "text": [
      "[1, [100, 101, 102], 4, 5]\n"
     ]
    }
   ],
   "source": [
    "L = [1, 2, 3, 4, 5]\n",
    "L[1:3] = [[100, 101, 102]]  \n",
    "print(L)"
   ]
  },
  {
   "cell_type": "markdown",
   "id": "6d113b0c",
   "metadata": {},
   "source": [
    "[[100, 101, 102]]는 리스트안에 리스트가 있는 것이므로 [100, 101, 102]이 2, 3 자리에 오게 됩니다."
   ]
  },
  {
   "cell_type": "markdown",
   "id": "2e2942ef",
   "metadata": {},
   "source": [
    "## 2. 문자열 S = 'Hello World and Python'에 대해 다음 요구사항에 대한 Python 코드를 제시하시오.\n",
    "+ 1) 단어의 순서가 역순으로 되어진 문자열 ('Python and World Hello')을 만들고\n",
    "+ 2) 1)의 결과 문자열에 대해 메소드 split과 join을 이용하여 공백을 모두 없엔 문자열 'PythonandWorldHello'을 만드시오."
   ]
  },
  {
   "cell_type": "code",
   "execution_count": 12,
   "id": "a4830499",
   "metadata": {},
   "outputs": [
    {
     "name": "stdout",
     "output_type": "stream",
     "text": [
      "Python and World Hello\n",
      "PythonandWorldHello\n"
     ]
    }
   ],
   "source": [
    "S = 'Hello World and Python'\n",
    "l = S.split()[::-1]\n",
    "s1 = \"\"\n",
    "for i in range(len(l)-1):\n",
    "    s1 = s1 + l[i] + ' '\n",
    "s1 = s1 + l[-1]\n",
    "print(s1)\n",
    "result = \"\".join(l)\n",
    "print(result)"
   ]
  },
  {
   "cell_type": "markdown",
   "id": "b64bcab3",
   "metadata": {},
   "source": [
    "1. 먼저 split을 이요하여 공백을 기준으로 자른 뒤 역순으로 l에 저장합니다.\n",
    "2. 문자열 s1을 생성해주고 반복문을 이용하여 l을 차례대로 s1에 저장하여 1)의 문자열을 만듭니다.\n",
    "3. l을 join을 이용하여 잘라진 문자열을 그대로 붙여 2)의 문자열을 만듭니다."
   ]
  },
  {
   "cell_type": "markdown",
   "id": "d1103064",
   "metadata": {},
   "source": [
    "## 3. 다음 코드를 보고 물음에 답하시오.\n",
    "\n",
    "   a = [1, 2, 3]  \n",
    "   b = a * 3  \n",
    "   c = [a] * 3  \n",
    "   print(b)  \n",
    "   print(c)\n",
    "   * 1) 위 코드를 수행한 이후 다음 코드를 수행한 후 b와 c의 내용을 확인하시오.  \n",
    "       a[0]=0  \n",
    "   * 2) b와 c 객체의 차이는 무엇인가?"
   ]
  },
  {
   "cell_type": "code",
   "execution_count": 1,
   "id": "c920cd96",
   "metadata": {},
   "outputs": [
    {
     "name": "stdout",
     "output_type": "stream",
     "text": [
      "[1, 2, 3, 1, 2, 3, 1, 2, 3]\n",
      "[[1, 2, 3], [1, 2, 3], [1, 2, 3]]\n"
     ]
    }
   ],
   "source": [
    "a = [1, 2, 3]\n",
    "b = a * 3\n",
    "c = [a] * 3\n",
    "print(b)\n",
    "print(c)"
   ]
  },
  {
   "cell_type": "code",
   "execution_count": 2,
   "id": "c9b910b0",
   "metadata": {},
   "outputs": [
    {
     "name": "stdout",
     "output_type": "stream",
     "text": [
      "[1, 2, 3, 1, 2, 3, 1, 2, 3]\n",
      "[[0, 2, 3], [0, 2, 3], [0, 2, 3]]\n"
     ]
    }
   ],
   "source": [
    "a[0] = 0\n",
    "print(b)\n",
    "print(c)"
   ]
  },
  {
   "cell_type": "markdown",
   "id": "232802b6",
   "metadata": {},
   "source": [
    "b의 경우 리스트 a의 값들을 3번 반복하는 새로운 리스트를 생성하는 것으로 다른 주소를 할당하고 있어 a의 값을 변경해도 변하지 않고 c의 경우 리스트 a의 주소를 할당받아 3번 반복하기 때문에 a의 값이 변하면 주소값도 바뀌어 c 객체도 바뀌게 됩니다."
   ]
  },
  {
   "cell_type": "markdown",
   "id": "a4d96db2",
   "metadata": {},
   "source": [
    "## 4. 다음 문자열을 ':'을 기준으로 분리하여 리스트로 만들고 각 문자열의 좌우 공백을 제거하시오 (즉, 문자열 S에서 l을 만들어라)\n",
    "    s = '  first star   :   second star   :    third star  '  \n",
    "    l = ['first star', 'second star', 'third star']\n",
    "+ 1) for ~ in 문을 이용한 코드를 작성하시오.\n",
    "+ 2) 리스트 내포(list comprehension)를 이용한 코드를 작성하시오."
   ]
  },
  {
   "cell_type": "code",
   "execution_count": 4,
   "id": "9ed16a8e",
   "metadata": {},
   "outputs": [
    {
     "name": "stdout",
     "output_type": "stream",
     "text": [
      "['first star', 'second star', 'third star']\n"
     ]
    }
   ],
   "source": [
    "s = '  first star   :   second star   :    third star  '  \n",
    "s_split = s.split(':')\n",
    "l= [i.strip() for i in s_split]\n",
    "print(l)"
   ]
  },
  {
   "cell_type": "markdown",
   "id": "cef7efe7",
   "metadata": {},
   "source": [
    "1. s에서 ':'를 기준으로 나누어 s_split에 저장합니다.\n",
    "2. for문을 이용하여 s_split을 차례대로 좌우 공백을 제거해 l에 저장합니다."
   ]
  },
  {
   "cell_type": "markdown",
   "id": "b0aa82e6",
   "metadata": {},
   "source": [
    "## 5. 다음과 같이 0보다 큰 정수 리스트 변수 list를 인자로 받는 함수 addall(list)와 addallodd(list)를 for ~ in 리터널과 리스트 내포 방식으로 각각 제시하시오.\n",
    "* 1) addall(list) 함수 (리스트 내의 모든 정수를 더하는 함수로서 해답으로는 for ~ in 리터럴과 리스트 내포 방식으로 각각 제시하시오.)  \n",
    "    * \\>>> addall([1])  \n",
    "        1  \n",
    "    * \\>>> addall([1, 2, 3, 4, 5, 6, 7, 8, 9])  \n",
    "        45  \n",
    "* 2) addallodd(list) 함수 (리스트내의 모든 홀수를 더하는 함수로서 해답으로는 for ~ in 리터럴과 리스트 내포 방식으로 각각 제시하시오.)  \n",
    "    * \\>>> addallodd([1])  \n",
    "        1  \n",
    "    * \\>>> addallodd([1, 2, 3, 4, 5, 6, 7, 8, 9])  \n",
    "        25   \n",
    "* [참고 1]: 리스트 내포 방식으로 addall() 및 addallodd()함수를 만들 때엔 리스트 내포에 의해 생성된 리스트 결과에 대해 내장 함수를 사용하는 방식을 고려해보시오 (주의: 리스트 내포 방식의 addall() 및 addallodd() 함수의 몸체는 단 1줄로 작성되어야 한다.)  \n",
    "* [참고 2]: sum() 등의 내장함수 사용 가능함  "
   ]
  },
  {
   "cell_type": "code",
   "execution_count": 8,
   "id": "4a613e22",
   "metadata": {},
   "outputs": [
    {
     "name": "stdout",
     "output_type": "stream",
     "text": [
      "45\n",
      "25\n"
     ]
    }
   ],
   "source": [
    "def addall(list):\n",
    "    result = 0\n",
    "    for i in list:\n",
    "        result = result + i\n",
    "    print(result)\n",
    "def addall(list):\n",
    "    print(sum([i for i in list]))\n",
    "def addallodd(list):\n",
    "    result = 0\n",
    "    for i in list:\n",
    "        if(i%2 == 1):\n",
    "            result = result + i\n",
    "    print(result)\n",
    "def addallodd(list):\n",
    "    print(sum([i for i in list if i%2 == 1]))\n",
    "    \n",
    "addall([1, 2, 3, 4, 5, 6, 7, 8, 9])\n",
    "addallodd([1, 2, 3, 4, 5, 6, 7, 8, 9])"
   ]
  },
  {
   "cell_type": "markdown",
   "id": "2be8946b",
   "metadata": {},
   "source": [
    "1-1. for ~ in 리터럴은 합을 저장할 result를 생성해주고 for ~ in 을 사용해 list의 값을 result에 추가해 준 뒤 result를 출력해 줍니다.  \n",
    "1-2. 리스트 내포의 경우 리스트 내포를 이용해 list의 값을 받은 뒤 sum() 내장함수를 이용해 리스트의 값들을 더해 출력하여 줍니다.  \n",
    "2-1. for ~ in 리터럴은 홀수의 합을 저장할 result를 생성해주고 for ~ in 을 사용해 list의 값을 조건에 맞추어 result에 추가해준 뒤 result를 출력해 줍니다.  \n",
    "2-2. 리스트 내포의 경우 리스트 내포를 이용해 list의 값을 조건에 맞추어 추가해준 뒤 sum() 내장함수를 이용해 리스트의 값들을 더해 출력하여 줍니다."
   ]
  },
  {
   "cell_type": "markdown",
   "id": "e4ef7bb3",
   "metadata": {},
   "source": [
    "## 6. 다음 코드를 보고 물음에 답하시오.\n",
    "\n",
    "L1 = [1, 2, 3]  \n",
    "L2 = [4, 5, 6]  \n",
    "d = {'low':L1, 'high':L2}  \n",
    "e = d  \n",
    "f = d.copy()  \n",
    "print(d)  \n",
    "print(e)  \n",
    "print(f)  \n",
    "print()  \n",
    "d['low'] = [10, 20, 30]  \n",
    "d['high'][1] = 500  \n",
    "print(d)  \n",
    "print(e)  \n",
    "print(f)  \n",
    "+ 1) 위 코드의 수행 결과 d와 e는 항상 같은 결과를 출력한다. 그 이유는 무엇인가?\n",
    "+ 2) 위 코드의 수행 결과 마지막 f의 내용은 다음과 같다. 이 때 'high' 키의 값 내용 중 500이 출력된 이유와 'low' 키의 값 내용 중 [1, 2, 3]이 출력된 이유를 설명하시오 ([hint]: shallow copy 관점에서 설명하시오.)  \n",
    "    {'high': [4, 500, 6], 'low': [1, 2, 3]}"
   ]
  },
  {
   "cell_type": "code",
   "execution_count": 1,
   "id": "da2e9545",
   "metadata": {},
   "outputs": [
    {
     "name": "stdout",
     "output_type": "stream",
     "text": [
      "{'low': [1, 2, 3], 'high': [4, 5, 6]}\n",
      "{'low': [1, 2, 3], 'high': [4, 5, 6]}\n",
      "{'low': [1, 2, 3], 'high': [4, 5, 6]}\n",
      "\n",
      "{'low': [10, 20, 30], 'high': [4, 500, 6]}\n",
      "{'low': [10, 20, 30], 'high': [4, 500, 6]}\n",
      "{'low': [1, 2, 3], 'high': [4, 500, 6]}\n"
     ]
    }
   ],
   "source": [
    "L1 = [1, 2, 3]\n",
    "L2 = [4, 5, 6]\n",
    "d = {'low':L1, 'high':L2}\n",
    "e = d\n",
    "f = d.copy()\n",
    "print(d)\n",
    "print(e)\n",
    "print(f)\n",
    "print()\n",
    "d['low'] = [10, 20, 30]\n",
    "d['high'][1] = 500\n",
    "print(d)\n",
    "print(e)\n",
    "print(f)"
   ]
  },
  {
   "cell_type": "markdown",
   "id": "84cfb075",
   "metadata": {},
   "source": [
    "1) 위 코드에서 d와 e는 같은 주소값을 참조하고 dict는 mutable 하기 때문에 값이 변하면 주소값의 값이 바뀌기 때문에 d와 e는 같은 값이 됩니다.  \n",
    "2) shallow copy의 경우 copy하여 새로운 변수를 만든 것이므로 d['low']의 값을 바꾸어도 f는 바뀌지 않습니다. 하지만 dict에 list와 같은 객체가 포함되어 있는 경우 이러한 객체는 값이 복제되지 않고 참조만 되기 때문에 'high' 키의 값 내용이 바뀌게 됩니다. 이러한 문제를 해결하기 위해서는 deep copy를 이용하면 복제가 가능합니다."
   ]
  },
  {
   "cell_type": "markdown",
   "id": "4389e6b4",
   "metadata": {},
   "source": [
    "## 7. 사전 d = {'one':1, 'two':2, 'three':3, 'four':4, 'five':5}가 주어졌을 때 다음 요구사항에 맞는 코드를 제시하시오\n",
    "+ [참고]: d.keys(), d.values()를 통해 리스트를 얻어낸 후 리스트가 지니고 있는 sort(cmp=None, key=None, reverse=False)함수를 활용하시오.\n",
    "+ 1) 키의 알파벳 오름차순 순서대로 튜플 (키, 값)을 차례대로 출력하시오.\n",
    "+ 2) 키의 알파벳 내림차순 순서대로 튜플 (키, 값)을 차례대로 출력하시오.\n",
    "+ 3) 값의 오름차순 순서대로 튜플 (키, 값)을 차례대로 출력하시오.\n",
    "+ 4) 값의 내림차순 순서대로 튜플 (키, 값)을 차례대로 출력하시오."
   ]
  },
  {
   "cell_type": "code",
   "execution_count": 4,
   "id": "e258721f",
   "metadata": {},
   "outputs": [
    {
     "name": "stdout",
     "output_type": "stream",
     "text": [
      "dict_items([('five', 5), ('four', 4), ('one', 1), ('three', 3), ('two', 2)])\n"
     ]
    }
   ],
   "source": [
    "d = {'one':1, 'two':2, 'three':3, 'four':4, 'five':5}\n",
    "l1 = list(d.keys())\n",
    "l1.sort()\n",
    "d1 = {}\n",
    "for i in l1:\n",
    "    d1[i] = d[i]\n",
    "print(d1.items())"
   ]
  },
  {
   "cell_type": "markdown",
   "id": "c2bf628a",
   "metadata": {},
   "source": [
    "1. d의 키를 리스트로 저장하고 오름차순으로 정렬합니다.\n",
    "2. for문을 이용해 키의 알파벳 오름차순 순서대로 (키, 값)을 차례대로 출력합니다."
   ]
  },
  {
   "cell_type": "code",
   "execution_count": 5,
   "id": "02caaf41",
   "metadata": {},
   "outputs": [
    {
     "name": "stdout",
     "output_type": "stream",
     "text": [
      "dict_items([('two', 2), ('three', 3), ('one', 1), ('four', 4), ('five', 5)])\n"
     ]
    }
   ],
   "source": [
    "d = {'one':1, 'two':2, 'three':3, 'four':4, 'five':5}\n",
    "l2 = list(d.keys())\n",
    "l2.sort(reverse = True)\n",
    "d2 = {}\n",
    "for i in l2:\n",
    "    d2[i] = d[i]\n",
    "print(d2.items())"
   ]
  },
  {
   "cell_type": "markdown",
   "id": "f4bf64b7",
   "metadata": {},
   "source": [
    "1. d의 키를 리스트로 저장하고 내림차순으로 정렬합니다.\n",
    "2. for문을 이용해 키의 알파벳 내림차순 순서대로 (키, 값)을 차례대로 출력합니다."
   ]
  },
  {
   "cell_type": "code",
   "execution_count": 6,
   "id": "3b8afe45",
   "metadata": {},
   "outputs": [
    {
     "name": "stdout",
     "output_type": "stream",
     "text": [
      "dict_items([('one', 1), ('two', 2), ('three', 3), ('four', 4), ('five', 5)])\n"
     ]
    }
   ],
   "source": [
    "d = {'one':1, 'two':2, 'three':3, 'four':4, 'five':5}\n",
    "l3 = list(d.values())\n",
    "l3.sort()\n",
    "d3 = {}\n",
    "for i in l3:\n",
    "    for j in d.keys():\n",
    "        if d[j] == i:\n",
    "            d3[j] = i\n",
    "            break\n",
    "print(d3.items())"
   ]
  },
  {
   "cell_type": "markdown",
   "id": "feb95658",
   "metadata": {},
   "source": [
    "1. d의 값을 리스트로 저장하고 오름차순으로 정렬합니다.\n",
    "2. for문을 두 번 사용하여 값에 맞는 키를 찾아 값의 오름차순 순서대로 (키, 값)을 차례대로 출력합니다."
   ]
  },
  {
   "cell_type": "code",
   "execution_count": 7,
   "id": "43e7f5ab",
   "metadata": {},
   "outputs": [
    {
     "name": "stdout",
     "output_type": "stream",
     "text": [
      "dict_items([('five', 5), ('four', 4), ('three', 3), ('two', 2), ('one', 1)])\n"
     ]
    }
   ],
   "source": [
    "d = {'one':1, 'two':2, 'three':3, 'four':4, 'five':5}\n",
    "l4 = list(d.values())\n",
    "l4.sort(reverse = True)\n",
    "d4 = {}\n",
    "for i in l4:\n",
    "    for j in d.keys():\n",
    "        if d[j] == i:\n",
    "            d4[j] = i\n",
    "            break\n",
    "print(d4.items())"
   ]
  },
  {
   "cell_type": "markdown",
   "id": "8e032f7b",
   "metadata": {},
   "source": [
    "1. d의 값을 리스트로 저장하고 내림차순으로 정렬합니다.\n",
    "2. for문을 두 번 사용하여 값에 맞는 키를 찾아 값의 내림차순 순서대로 (키, 값)을 차례대로 출력합니다."
   ]
  },
  {
   "cell_type": "markdown",
   "id": "9765192e",
   "metadata": {},
   "source": [
    "## 8. 다음 문제를 정확히 읽고 적합한 코딩을 제시하시오.\n",
    "+ length(X)를 다음과 같이 정의한다 : 10진수로 표현된 X의 자릿수\n",
    "+ Strange라는 숫자를 아래과 같이 정의한다.\n",
    "    * 음이 아닌 정수 중 자릿수가 1인 모든 숫자는 Strange이다.\n",
    "    * length(X) > 1 인 숫자 X 는 다음 2가지를 만족하면 Strange이다.\n",
    "        - X는 length(X)로 정확히 나누어 떨어진다.\n",
    "        - X / length(X) 가 strnage이다.\n",
    "\n",
    "+ 이 문제에서 숫자 하나가 주어질 때, 이 숫자가 Strange인지 판단하는 함수 isStrange(num)을 작성하시오.\n",
    "+ isStrange(num) 함수가 재귀적인 함수가 되도록 작성해 보세요."
   ]
  },
  {
   "cell_type": "code",
   "execution_count": 17,
   "id": "981e70ec",
   "metadata": {},
   "outputs": [
    {
     "name": "stdout",
     "output_type": "stream",
     "text": [
      "True\n",
      "True\n",
      "False\n",
      "False\n"
     ]
    }
   ],
   "source": [
    "def isStrange(num):\n",
    "    if(num < 0):\n",
    "        return False\n",
    "    if(int(num)!=num):\n",
    "        return False\n",
    "    if(num<10):\n",
    "        return True\n",
    "    elif(num%(len(str(num)))==0 and isStrange(int(num/(len(str(num)))))):\n",
    "        return True\n",
    "    return False\n",
    "print(isStrange(0))\n",
    "print(isStrange(7882602506492313600))\n",
    "print(isStrange(6012302549522098651))\n",
    "print(isStrange(-10))"
   ]
  },
  {
   "cell_type": "markdown",
   "id": "4dd6628c",
   "metadata": {},
   "source": [
    "1. 만약 음수이거나 정수가 아닌 경우 False를 반환해 줍니다.\n",
    "2. 10보다 작은 경우(음이 아닌 정수 중 자릿수가 1인 모든 숫자) True를 반환해 줍니다.\n",
    "3. 또는 num이 자릿수로 나누어 떨어지고 재귀를 통해 다시 num/(len(str(num)))를 isStrange에 넣어 참이라면 True를 반환해 줍니다.\n",
    "4. 이때 앞에 int를 붙여주지 않으면 float형으로 되어 뒤에 소수점이 붙기 때문에 int를 앞에 붙여주었습니다.\n",
    "5. 앞에 내용에 해당하지 않는 값은 False를 반환해 줍니다."
   ]
  },
  {
   "cell_type": "markdown",
   "id": "78e38ac2",
   "metadata": {},
   "source": [
    "## 9. 다음 문제를 정확히 읽고 적합한 코딩을 제시하시오.\n",
    "\n",
    "+ 1번 그룹, 2번 그룹, ... n번 그룹으로 번호가 매겨진 총 n개의 그룹이 존재하고, $i^{th}$ 그룹에는 임의의 팀원 수 $a_i$ 명이 있다.\n",
    "하나의 버스 정류장이 있고, 버스는 오직 한 대만 운영한다. 버스는 버스 정류장에 도착하고 모든 그룹은 버스를 통해 여행하길 원한다.\n",
    "하지만, 같은 그룹에 속한 팀원들은 분리되기를 원치 않는다. 그래서 그룹의 모든 팀원이 탈 수 있을 때 에만 그 그룹은 버스에 탑승한다.\n",
    "또한, 이들은 그룹의 번호순으로 여행을 하길 원한다. 예를 들어, 3번 그룹은 1번 그룹과 2번 그룹이 여행을 한 뒤에 버스를 탈 수 있거나, 1번 그룹과 2번 그룹이 이미 버스에 탑승한 상태에 있을 때 동시에 버스를 탈 수 있다.\n",
    "마지막으로, 버스는 빈 좌석이 없을 때 에만 여행을 떠난다.\n",
    "\n",
    "+ 이 문제에서 각 그룹의 팀원 수가 리스트로 주어질 때, 가능한 모든 버스의 사이즈 x(x명의 사람들이 동시에 탈 수 있음)를 반환하는 함수 solve(a) 를 작성하시오.\n",
    "+ [주의] 반드시 계산 복잡도를 최대한 낮추세요. 아래 예시 3번을 실행했을 때 결과가 바로 나타날 수 있도록!!"
   ]
  },
  {
   "cell_type": "markdown",
   "id": "17b7b14a",
   "metadata": {},
   "source": [
    "X"
   ]
  },
  {
   "cell_type": "markdown",
   "id": "518877d5",
   "metadata": {},
   "source": [
    "## [Incremental Project 문제]\n",
    "\n",
    "### 이전 Assignment 2의 마지막 문제는 웹 URL로 지정된 웹페이지를 문자열로 가져와 모든 HTML 태그를 제외한 순수 텍스트를 얻어내고 그 안에 존재하는 단어를 추출하고 단어들의 총 개수를 출력하는 프로그램을 작성하는 것이었다. 이번에는 그 마지막 숙제를 그대로 확장하여 웹 URL로 지정된 웹페이지 내 순수 텍스트 안에 존재하는 각 단어들에 대해 다음 요구사항 대로 출력하는 프로그램을 작성하시오.¶\n"
   ]
  },
  {
   "cell_type": "code",
   "execution_count": 8,
   "id": "53fb4f16",
   "metadata": {},
   "outputs": [],
   "source": [
    "import requests\n",
    "\n",
    "req = requests.get('https://www.koreatech.ac.kr')\n",
    "\n",
    "source = req.text"
   ]
  },
  {
   "cell_type": "code",
   "execution_count": 9,
   "id": "82b522d0",
   "metadata": {},
   "outputs": [
    {
     "name": "stdout",
     "output_type": "stream",
     "text": [
      "순수 문자열: \n",
      "['', '한국기술교육대학교', \"window.dataLayer = window.dataLayer || [];\\n  function gtag(){dataLayer.push(arguments);}\\n  gtag('js', new Date());\\n\\n  gtag('config', 'UA-147102937-1');\", 'var currentAddress = location.href;\\n\\tvar isDevelopMode = \"\"\\n\\tif( isDevelopMode != \"Y\" && false ){\\n\\t\\tif( currentAddress.indexOf( \"http://\" )', '닫기', 'Link', 'Service', '재학생', '재학생', '학생이 행복한 대학, 한국기술교육대학교', '온라인교육지원', '생활관', '원격지원', '오늘의 식단', '!--', '시설보수신청', '--', '학사종합시스템', '인터넷증명발급', '동아리안내', '입학정보', '코리아텍의 입학정보를 제공합니다.', '취업정보', '최신 취업관련 정보를 제공합니다.', '!--', '예비대학생', '예비대학생', '학생이 행복한 대학, 한국기술교육대학교', '입학안내', '학부소개', '언론기사', '홍보영상물', '생활관', '장학제도', '전화번호찾기', '찾아오시는길', '입학정보', '코리아텍의 입학정보를 제공합니다.', '취업정보', '최신 취업관련 정보를 제공합니다.', '--', '교직원', '교직원', '학생이 행복한 대학, 한국기술교육대학교', '아우누리', '온라인교육지원', '무선랜신청', '원격지원', '오늘의 식단', '교육장비검색', '입학정보', '코리아텍의 입학정보를 제공합니다.', '취업정보', '최신 취업관련 정보를 제공합니다.', '일반인', '일반인', '학생이 행복한 대학, 한국기술교육대학교', '코리아텍소개', 'VISION2020 PLUS', '언론기사', '학부소개', '대학원소개', '캠퍼스투어', '찾아오시는길', '전화번호찾기', '입학정보', '코리아텍의 입학정보를 제공합니다.', '취업정보', '최신 취업관련 정보를 제공합니다.', '코리아텍 특장점', '자세히 보기', '중앙일보대학평가‘교육중심대학’ 1위', '코리아텍은 중앙일보대학평가 11년 연속으로', '“교육중심대학 1위” 의 성과를 이루었습니다.', '!--', '자세히 보기', '중앙일보대학평가‘교육중심대학’ 1위', '코리아텍은 중앙일보대학평가 11년 연속으로', '“교육중심대학 1위” 의 성과를 이루었습니다.', '--', '스킵네비게이션', '본문바로가기', '주메뉴바로가기', '재학생', '!--', '예비대학생', '--', '교직원', '일반인', '통학·', '셔틀버스', '명칭\\r\\n\\twhome\\t-', '안전보건경영', '웹메일', '행정서비스헌장', '부패행위신고', '홈페이지 오류신고', 'ENG', 'CHI', '팝업', '0', '건', '한국기술교육대학교', '전체메뉴열기', '전체메뉴닫기', '한국기술교육대학교', '입학안내', '웹메일', 'ENG', 'CHI', '대학소개', 'KOREATECH소개', '교육목표 및 인재상', '대학특성', 'KOREATECH 심볼', '교가', '캠퍼스 안내', '찾아오시는길', '통학/셔틀버스안내', 'KOREATECH20년', '총장실', '총장인사말', '총장프로필', '총장동정', '열린총장실', '역대총장', '대학현황', '대학요람', '규정집', '연혁', '재정현황', '시설현황', '재학생현황', 'VISION2020 PLUS', '대학조직', '조직구성', '전화번호검색', '국제교류', '국제교류현황', '국제협력프로그램', 'KOREATECH 발전기금', '모금캠페인', '참여하기', '기부자예우', '발전기금소식', '후원커뮤니티', '부패행위 신고', '부패행위 신고', '익명신고', '청렴게시판', '청렴자료실', '청탁금지법', '청탁금지법 Q&A (국민권익위)', '안전보건경영', '비전 및 추진체계', '안전보건방침', '선포식', '안전 게시판', '감염병 게시판', '자료실', '안전 신문고', '입학안내', '대학', '대학원', '입시요강', '전년도 결과확인', '모의성적계산', '대학/대학원', '대학', '기계공학부', '메카트로닉스공학부', '전기전자통신공학부', '컴퓨터공학부', '디자인·건축공학부', '에너지신소재화학공학부', '산업경영학부', '고용서비스정책학과', '교양학부', 'HRD학과', '융합학과', '대학원', '일학습병행대학', '대학생활', '학사안내', '학사일정', '학적 변동', '교과과정', '특수교과', '수강신청', '졸업', '졸업작품', '해외연수', '교환학생안내', '어학연수안내', '장학제도', '교내장학금', '교외장학금', '캠퍼스생활', '은행업무', '인터넷증명발급', '증명서발급', '학생증발급', '도서관이용안내', '모바일화폐(페이코)사용안내', '동아리안내', '보건실안내', '소프트웨어사용안내', '무선랜사용신청', '병사안내', '병무안내', '직장예비군안내', '민방위안내', '병무안내관련사이트', '커뮤니티', '공지사항', '일반공지', '장학공지', '학사공지', '채용공지', '코로나19관련공지', '학부모님 의견란', '고객만족경영', '고객만족경영체계', '고객의 소리(제안)', 'VOC 개선사항', '정보공개', '정보공개', '정보공개제도안내', '정보공개업무편람', '정보공개이의신청', '사전정보공표목록', '인터넷정보공개청구', '행정정보소재', '공공데이터', '공공데이터개방', '데이터의견수렴·오류신고', '행정공시', '학교법인임원공시', '구매입찰', '회계공시', '경영공시', '대학알리미', 'ALIO경영공시', '대학혁신지원사업', '대학혁신지원사업', '사업실명제', '민간투자사업', '개교 30주년', '30주년 사업소개', '위원장 인사말', '기념사업 개요', '엠블럼', '30년 발자취', '함께하는 30주년', '사업소식', '30년 자료 기증', '공지사항', 'Q&A', 'KOREATECH Story', 'KOREATECH NEWS', '홍보영상물', '대학홍보영상', '홍보관련영상', '언론보도영상', \"KOREATECH 홍보대사 '나래'\", '대학소식지', '대학캠퍼스투어', '홍보브로셔', 'KOREATECH 학부모 초청의 날', '행사참여안내', '행사참여신청', '포토갤러리', 'CoverStory', '홍보소재(제안)', '전체메뉴보기', 'SEARCH', '!--', '대한민국 기술리더,', '한국기술교육대학교--', '01', 'Sep', 'COVER STORY', '코로나에 못 만난다고?..&quot;아바타로 회의하고, 협약까지 한다&quot;', '코로나19 사태 속에 최근 직접 만나서 회의를 하거나 행사 열기가 사실상 어렵습니다.그러다보니 가상현실을 활용한 대안들이 갈수록 진화하고 있습니다.\\r\\n최근 비대면 상황에서 현실과 ...', '13', 'Aug', 'COVER STORY', '한국기술교육대학교 학부과별 홍보영상 공개', '한국기술교육대학교의 새로운학부과 홍보 동영상이 공개되었습니다.\\r\\n\\r\\n자세한 영상과 이벤트는 한국기술교육대학교 공식 유튜브에서 확인하실 수 있습니다. (오른쪽 사진을 클릭하세요)', '09', 'Jul', 'COVER STORY', '장신철 한국기술교육대 고용서비스정책학과장 “고용서비스는 기본적인 사회안전망...전문인력 육성해야”', '고용서비스정책학과는 고용서비스 분야의 전문인력 양성을 위해 생긴 학과다. 고용서비스는 취업, 재직, 실직, 재취업, 전직 등 국민들의 일자리와 관련된 다양한 서비스를 제공한다. 고...', '능력개발교육원', '온라인평생교육원', '직업능력심사평가원', '산학협력단', '공지사항', '[대외협력팀] 근로장학생 모집', '2021-10-22', '[대외협력팀] 문화지원금 받고 외국인 친구랑 여행하자! (10명 선착순 모집)', '2021-10-22', \"[입학홍보팀] '한국기술교육대학교 X IPP센터' 유튜브 구독 + 댓글 이벤트\", '2021-10-22', '[기간연장] 현장실습 연구 - FGI 인터뷰 참가 학생 모집(온누리상품권 지급)', '2021-10-22', '공지사항 더보기', '포토갤러리', '포토갤러리더보기', \"$.ajax({\\r\\n\\t\\t\\t\\t\\tcache: false,\\r\\n\\t\\t\\t\\t\\turl:'/kor/ajx_json/MainBoard.do?site_code=kor&pageSize=3&mCode=MN398&skin=gallery&mgr_seq=57&category=',\\r\\n\\t\\t\\t\\t\\ttype:'post',\\r\\n\\t\\t\\t\\t\\tdatatype:'script',\\r\\n\\t\\t\\t\\t\\tresetForm:false,\\r\\n\\t\\t\\t\\t\\tbeforeSubmit: function(formData, jqForm, options) {\\r\\n\\t\\t\\t\\t\\t  var obj = jqForm[0];\\t\\t \\r\\n\\t\\t\\t\\t\\t  return true;\\r\\n\\t\\t\\t\\t\\t},\\r\\n\\t\\t\\t\\t\\tsuccess: function(responseText, statusText) {\\r\\n\\t\\t\\t\\t\\t\\t$('#mBoard1').html(responseText);\\r\\n\\t\\t\\t\\t\\t\\t\\r\\n\\t\\t\\t\\t\\t}\\r\\n\\t\\t\\t\\t})\", '팝업존', '재생', '정지', '숫자로 보는', '한국기술교육대학교', '84.7', '%', '전국 4년제 대학 취업률 1위', '(출처: 대학정보공시, 졸업생 500명 이상 대학)', '1', '위', '중앙일보 대학평가', '교육중심대학(11년연속) 1위', '(출처: 중앙일보 ‘19년 평가)', '3,296', '천원', '장학금 수령액', '(출처: 2020년 대학정보공시 기준)', 'Statistics', '취업률', '분포현황', \"$.ajax({\\n\\t\\t\\t\\t\\t\\t\\tcache: false,\\n\\t\\t\\t\\t\\t\\t\\turl:'/kor/ajx_json/DeptData.json',\\n\\t\\t\\t\\t\\t\\t\\ttype:'post',\\n\\t\\t\\t\\t\\t\\t\\tdatatype:'script',\\n\\t\\t\\t\\t\\t\\t\\tresetForm:false,\\n\\t\\t\\t\\t\\t\\t\\tasync: false,\\n\\t\\t\\t\\t\\t\\t\\tbeforeSubmit: function(formData, jqForm, options) {\\n\\t\\t\\t\\t\\t\\t\\t  var obj = jqForm[0];         \\n\\t\\t\\t\\t\\t\\t\\t  return true;\\n\\t\\t\\t\\t\\t\\t\\t},\\n\\t\\t\\t\\t\\t\\t\\tsuccess: function(obj) {\\n\\t\\t\\t\\t\\t\\t\\t\\t$('.dept-slide').append(obj.DeptData);\\n\\t\\t\\t\\t\\t\\t\\t}\\n\\t\\t\\t\\t\\t\\t})\", '자주찾는 서비스', '학사종합서비스', '온라인교육', '인터넷증명발급', '학사일정', '발전기금', '학과안내', 'SNS', '페이스북', 'FaceBook', '한국기술교육대학교-KOREATECH님이 게시한 사진', '2021-10-14', 'Blog', '[KOREATECH/한국기술교육대학교] Wings Magazine 2021년 10월호', '2021-10-15', 'Instgram', '#Wings_Magazine #10월호', '2021-10-15', 'Youtube', '2021 하반기 졸업작품 | 메카트로닉스공학부 | 황태현 [한국기술교육대학교/KOREATECH]', '2021-10-18', '네이버블로그', '인스타그램', '유튜브', '$(\\'.cate-fb dt a\\').click(function() {\\r\\n       $(\\'.sns-cont .cate\\').text(\\'Facebook\\');\\r\\n   });\\r\\n\\r\\n\\t$(\\'.blog\\').on({\\r\\n\\t\\t\"click\": function(event) {\\r\\n\\t\\t\\t $.ajax({\\r\\n\\t\\t\\t\\tcache: false,\\r\\n\\t\\t\\t\\turl:\\'/kor/ajx_json/SnsData.do?gubun=nb&end=4\\',\\r\\n\\t\\t\\t\\ttype:\\'post\\',\\r\\n\\t\\t\\t\\tdatatype:\\'script\\',\\r\\n\\t\\t\\t\\tresetForm:false,\\r\\n\\t\\t\\t\\tasync: false,\\r\\n\\t\\t\\t\\tbeforeSubmit: function(formData, jqForm, options) {\\r\\n\\t\\t\\t\\t  var obj = jqForm[0];         \\r\\n\\t\\t\\t\\t  return true;\\r\\n\\t\\t\\t\\t},\\r\\n\\t\\t\\t\\tsuccess: function(responseText, statusText) {\\r\\n\\t\\t\\t\\t\\t$(\\'#dataSns02\\').html(responseText);\\r\\n\\t\\t\\t\\t}\\r\\n\\t\\t\\t})\\r\\n\\t\\t\\t$(\\'.sns-cont .cate\\').text(\\'Blog\\');\\r\\n\\t\\t},\\r\\n\\t\\t\"focusin\": function(event) {\\r\\n\\t\\t\\t$.ajax({\\r\\n\\t\\t\\t\\tcache: false,\\r\\n\\t\\t\\t\\turl:\\'/kor/ajx_json/SnsData.do?gubun=nb&end=4\\',\\r\\n\\t\\t\\t\\ttype:\\'post\\',\\r\\n\\t\\t\\t\\tdatatype:\\'script\\',\\r\\n\\t\\t\\t\\tresetForm:false,\\r\\n\\t\\t\\t\\tasync: false,\\r\\n\\t\\t\\t\\tbeforeSubmit: function(formData, jqForm, options) {\\r\\n\\t\\t\\t\\t  var obj = jqForm[0];         \\r\\n\\t\\t\\t\\t  return true;\\r\\n\\t\\t\\t\\t},\\r\\n\\t\\t\\t\\tsuccess: function(responseText, statusText) {\\r\\n\\t\\t\\t\\t\\t$(\\'#dataSns02\\').html(responseText);\\r\\n\\t\\t\\t\\t}\\r\\n\\t\\t\\t})\\r\\n\\t\\t\\t$(\\'.sns-cont .cate\\').text(\\'Blog\\');\\r\\n\\t\\t}\\r\\n\\t});\\r\\n\\r\\n\\t$(\\'.insta\\').on({\\r\\n\\t\\t\"click\": function(event) {\\r\\n\\t\\t\\t$.ajax({\\r\\n\\t\\t\\t\\tcache: false,\\r\\n\\t\\t\\t\\turl:\\'/kor/ajx_json/SnsData.do?gubun=insta&end=4\\',\\r\\n\\t\\t\\t\\ttype:\\'post\\',\\r\\n\\t\\t\\t\\tdatatype:\\'script\\',\\r\\n\\t\\t\\t\\tresetForm:false,\\r\\n\\t\\t\\t\\tasync: false,\\r\\n\\t\\t\\t\\tbeforeSubmit: function(formData, jqForm, options) {\\r\\n\\t\\t\\t\\t  var obj = jqForm[0];         \\r\\n\\t\\t\\t\\t  return true;\\r\\n\\t\\t\\t\\t},\\r\\n\\t\\t\\t\\tsuccess: function(responseText, statusText) {\\r\\n\\t\\t\\t\\t\\t$(\\'#dataSns03\\').html(responseText);\\r\\n\\t\\t\\t\\t}\\r\\n\\t\\t\\t})\\r\\n\\t\\t\\t$(\\'.sns-cont .cate\\').text(\\'Instgram\\');\\r\\n\\t\\t},\\r\\n\\t\\t\"focusin\": function(event) {\\r\\n\\t\\t\\t$.ajax({\\r\\n\\t\\t\\t\\tcache: false,\\r\\n\\t\\t\\t\\turl:\\'/kor/ajx_json/SnsData.do?gubun=insta&end=4\\',\\r\\n\\t\\t\\t\\ttype:\\'post\\',\\r\\n\\t\\t\\t\\tdatatype:\\'script\\',\\r\\n\\t\\t\\t\\tresetForm:false,\\r\\n\\t\\t\\t\\tasync: false,\\r\\n\\t\\t\\t\\tbeforeSubmit: function(formData, jqForm, options) {\\r\\n\\t\\t\\t\\t  var obj = jqForm[0];         \\r\\n\\t\\t\\t\\t  return true;\\r\\n\\t\\t\\t\\t},\\r\\n\\t\\t\\t\\tsuccess: function(responseText, statusText) {\\r\\n\\t\\t\\t\\t\\t$(\\'#dataSns03\\').html(responseText);\\r\\n\\t\\t\\t\\t}\\r\\n\\t\\t\\t})\\r\\n\\t\\t\\t$(\\'.sns-cont .cate\\').text(\\'Instgram\\');\\r\\n\\t\\t}\\r\\n\\t});\\r\\n    \\r\\n    \\r\\n\\t$(\\'.youtube\\').on({\\r\\n\\t\\t\"click\": function(event) {\\r\\n\\t\\t\\t$.ajax({\\r\\n\\t\\t\\t\\tcache: false,\\r\\n\\t\\t\\t\\turl:\\'/kor/ajx_json/SnsData.do?gubun=youtube&end=4\\',\\r\\n\\t\\t\\t\\ttype:\\'post\\',\\r\\n\\t\\t\\t\\tdatatype:\\'script\\',\\r\\n\\t\\t\\t\\tresetForm:false,\\r\\n\\t\\t\\t\\tasync: false,\\r\\n\\t\\t\\t\\tbeforeSubmit: function(formData, jqForm, options) {\\r\\n\\t\\t\\t\\t  var obj = jqForm[0];         \\r\\n\\t\\t\\t\\t  return true;\\r\\n\\t\\t\\t\\t},\\r\\n\\t\\t\\t\\tsuccess: function(responseText, statusText) {\\r\\n\\t\\t\\t\\t\\t$(\\'#dataSns04\\').html(responseText);\\r\\n\\t\\t\\t\\t}\\r\\n\\t\\t\\t})\\r\\n\\t\\t\\t$(\\'.sns-cont .cate\\').text(\\'Youtube\\');\\r\\n\\t\\t},\\r\\n\\t\\t\"focusin\": function(event) {\\r\\n\\t\\t\\t$.ajax({\\r\\n\\t\\t\\t\\tcache: false,\\r\\n\\t\\t\\t\\turl:\\'/kor/ajx_json/SnsData.do?gubun=youtube&end=4\\',\\r\\n\\t\\t\\t\\ttype:\\'post\\',\\r\\n\\t\\t\\t\\tdatatype:\\'script\\',\\r\\n\\t\\t\\t\\tresetForm:false,\\r\\n\\t\\t\\t\\tasync: false,\\r\\n\\t\\t\\t\\tbeforeSubmit: function(formData, jqForm, options) {\\r\\n\\t\\t\\t\\t  var obj = jqForm[0];         \\r\\n\\t\\t\\t\\t  return true;\\r\\n\\t\\t\\t\\t},\\r\\n\\t\\t\\t\\tsuccess: function(responseText, statusText) {\\r\\n\\t\\t\\t\\t\\t$(\\'#dataSns04\\').html(responseText);\\r\\n\\t\\t\\t\\t}\\r\\n\\t\\t\\t})\\r\\n\\t\\t\\t$(\\'.sns-cont .cate\\').text(\\'Youtube\\');\\r\\n\\t\\t}\\r\\n\\t});', '대학/대학원', '기계공학부', '메카트로닉스공학부', '전기전자통신공학부', '컴퓨터공학부', '디자인공학전공', '건축공학전공', '에너지신소재화학공학부', '산업경영학부', '교양학부', 'HRD학과', '융합학과', '일반대학원', '테크노인력개발전문대학원', 'IT융합과학경영대학원', '최고경영자과정', '주요사이트', '네이버 공식블로그', '학사종합서비스', '온라인교육지원', '웹갤러리', '웹메일', '청년워크넷', '고용부 워크넷', '잡코리아', '사람인', '인크루트', '교내주요기관', '능력개발교육원', '온라인평생교육원', '직업능력심사평가원', '다산정보관', '산학협력단', 'LINC+사업단', '생활협동조합', '생활관', '반도체 장비기술교육센터', '상담진로개발센터', 'IPP센터', 'IPP포털', '사회봉사센터', '다담창의센터', 'IPP·Uni-Tech허브사업단', '창업지원센터', '듀얼공동훈련센터허브사업단', '대학혁신사업단', '교수학습센터', '도제허브사업단', '국제교육센터', '학생자치단체', '총학생회', '코리아텍방송국', '생활관자치회', '대외유관기관', '고용노동부', '산업통상자원부', '기획재정부', '한국산업인력공단', '한국폴리텍대학', '한국교육개발원', '한국노동연구원', '한국고용노동교육원', '근로복지공단', '한국산업안전보건공단', '한국고용정보원', '한국직업능력개발원', '한국장애인고용공단', '충청남도청', '천안시청', '국민권익위원회', '교육부', 'NTIS', '원격훈련심사센터', '명칭\\n\\tprivacy\\t-', 'TOP', '한국기술교육대학교 서비스메뉴', '개인정보처리방침', '이메일무단수집거부', '윤리헌장', '행정서비스헌장', '알리오', '대학정보공시', '!--', 'IPP포털', '--', '도로명주소안내', '좌측내용 더보기', '우측내용 더보기', \"function fnMove(seq){\\n\\t\\t\\t\\t\\t\\t$('.service-list').scrollLeft( $('.service-list').scrollLeft() + seq );\\n\\t\\t\\t\\t\\t}\", '[31253] 충청남도 천안시 동남구 병천면 충절로 1600 (가전리, 한국기술교육대학교)', 'TEL :', '041-560-1114', 'FAX :', '02--', 'EMAIL :', 'inter@koreatech.ac.kr', 'Copyright ⓒ 2019.  KOREATECH.  All right reserved.']\n",
      "문자열 단어 총 개수: 1013개\n"
     ]
    }
   ],
   "source": [
    "# print(source)\n",
    "\n",
    "list = source.split('<')\n",
    "l = []\n",
    "for i in range(len(list)):\n",
    "    if(list[i].find('>')>0):\n",
    "        if(len(list[i].strip())!=(list[i].find('>')+1)):\n",
    "            l.append(list[i].split('>')[1])\n",
    "    else:\n",
    "        l.append(list[i])\n",
    "\n",
    "s = []        \n",
    "for j in range(len(l)):\n",
    "    a = l[j].strip()\n",
    "    s.append(a)\n",
    "print('순수 문자열: ')  \n",
    "print(s)   \n",
    "\n",
    "result = []   \n",
    "for j in range(len(l)):\n",
    "    a = l[j].split()\n",
    "    for k in range(len(a)):\n",
    "        result.append(a[k])\n",
    "\n",
    "print('문자열 단어 총 개수: {0}개'.format(len(result)))"
   ]
  },
  {
   "cell_type": "code",
   "execution_count": null,
   "id": "3d06b22e",
   "metadata": {},
   "outputs": [],
   "source": []
  },
  {
   "cell_type": "markdown",
   "id": "d4231289",
   "metadata": {},
   "source": [
    "## 소감\n",
    "이번 과제는 기존 과제보다 개념적인 부분이 더 많이 필요로한 과제였던 것 같습니다. 깊은 복사와 얕은 복사에 대해서도 더 찾아보게 되었고 mutable한 자료형과 아닌 것들은 구분할 수 있게 되었습니다. 다른 문제들은 잘 풀렸지만 9번 문제에서 어떻게 해야할지 오래 고민해 봤지만 마땅한 방법이 떠오르지 않아 풀지 못하였습니다. 문제를 다 풀지 못했다는 아쉬움이 남았고 과제 기간은 끝났지만 더 고민해 볼 것입니다. 점점 과제가 어려워지는 것 같아 힘들었지만 한편으로는 재미있었던 것 같습니다."
   ]
  }
 ],
 "metadata": {
  "kernelspec": {
   "display_name": "Python 3",
   "language": "python",
   "name": "python3"
  },
  "language_info": {
   "codemirror_mode": {
    "name": "ipython",
    "version": 3
   },
   "file_extension": ".py",
   "mimetype": "text/x-python",
   "name": "python",
   "nbconvert_exporter": "python",
   "pygments_lexer": "ipython3",
   "version": "3.8.8"
  }
 },
 "nbformat": 4,
 "nbformat_minor": 5
}

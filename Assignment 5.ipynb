{
 "cells": [
  {
   "cell_type": "markdown",
   "id": "9653bc47",
   "metadata": {},
   "source": [
    "# Assignment 5\n",
    "2020136093 이건우"
   ]
  },
  {
   "cell_type": "markdown",
   "id": "ab82eb22",
   "metadata": {},
   "source": [
    "## 1. 클래스와 모듈의 공통점과 차이점에 대해 설명하시오."
   ]
  },
  {
   "cell_type": "markdown",
   "id": "9de42475",
   "metadata": {},
   "source": [
    "공통점: 모듈과 클래스는 용도에 맞도록 구성한 객체 맴버들을 캡슐화 시킨 후 가져다 사용한다  \n",
    "차이점: 모듈은 파일 내에서 특정한 동작을 수행하는 코드를 단위로 작성하여 같은 파일 내 같은 이름공간을 갖고 모듈은 비슷하거나 관련된 일을 하는 함수 등의 코드를 하나의 파일에 저장하고 추후에 사용하는 단위로 파일 단위로 코드를 묶어 사용합니다. 또한 함수는 내부 맴버를 변경할 수 있고 모듈은 내부 맴버를 변경할 수 없습니다."
   ]
  },
  {
   "cell_type": "markdown",
   "id": "395c9951",
   "metadata": {},
   "source": [
    "## 2. 다형성에 대해 설명하고 다형성을 보여주는 자신만의 파이썬 코드 예제를 제시하시오."
   ]
  },
  {
   "cell_type": "markdown",
   "id": "b0520830",
   "metadata": {},
   "source": [
    "다형성이란 상속 관계 내의 다른 클래스들의 인스턴스들이 같은 맴버 함수 호출에 대해 각각 다르게 반응하도록 하는 기능이고 적은 코딩으로 다양한 객체들에게 유사한 작업을 수행시킬 수 있고 프로그램 작성 코드 량이 줄어들고 코드의 가독성을 높여준다는 장점이 있습니다."
   ]
  },
  {
   "cell_type": "code",
   "execution_count": 4,
   "id": "17098365",
   "metadata": {},
   "outputs": [
    {
     "name": "stdout",
     "output_type": "stream",
     "text": [
      "학번: 2020136093 이름: 이건우 학부: 컴퓨터공학부\n",
      "학번: 2020136093 이름: 이건우 학부: 전기전자공학부\n",
      "학번: 2020136093 이름: 이건우 학부: 기계공학부\n"
     ]
    }
   ],
   "source": [
    "class Student:\n",
    "    def __init__(self, name, student_id):\n",
    "        self.name = name\n",
    "        self.student_id = student_id\n",
    "    def profile(self):\n",
    "        print(\"학번: {} 이름: {}\".format(self.student_id, self.name))\n",
    "class ComputerScience(Student):\n",
    "    def profile(self):\n",
    "        print(\"학번: {} 이름: {} 학부: 컴퓨터공학부\".format(self.student_id, self.name))\n",
    "class BatteryElectronics(Student):\n",
    "    def profile(self):\n",
    "        print(\"학번: {} 이름: {} 학부: 전기전자공학부\".format(self.student_id, self.name))\n",
    "class mechanicalengineering(Student):\n",
    "    def profile(self):\n",
    "        print(\"학번: {} 이름: {} 학부: 기계공학부\".format(self.student_id, self.name))\n",
    "Student1 = ComputerScience(\"이건우\", \"2020136093\")\n",
    "Student1.profile()\n",
    "Student2 = BatteryElectronics(\"이건우\", \"2020136093\")\n",
    "Student2.profile()\n",
    "Student3 = mechanicalengineering(\"이건우\", \"2020136093\")\n",
    "Student3.profile()"
   ]
  },
  {
   "cell_type": "markdown",
   "id": "9fedf863",
   "metadata": {},
   "source": [
    "학번과 이름을 갖는 Student클래스를 만들고 학부에 따라 다른 클래스를 만들어 Student를 상속하였습니다. 메소드를 재정의하여 추가적으로 학부를 추가적으로 출력되게끔 하였습니다."
   ]
  },
  {
   "cell_type": "markdown",
   "id": "0254db6a",
   "metadata": {},
   "source": [
    "## 3. 다음 각 요구사항 모두를 만족시키는 Counter 클래스를 코딩하시오 (정답을 각 요구사항별로 입력할 필요 없이 3번 문제에 대해 1개의 클래스 정의 코드를 제시하면 된다.)"
   ]
  },
  {
   "cell_type": "markdown",
   "id": "9d4641cb",
   "metadata": {},
   "source": [
    "* 요구사항 1. 생성자에 count 값과 step 값을 인자로 받을 수 있다.\n",
    "\n",
    "    - count: Counter 인스턴스가 지니는 초기 정수 값\n",
    "    - step: Counter 인스턴스의 count가 증가되는 증분 (defalt 값: 1)  \n",
    "    \n",
    ">\\>>> c = Counter(10)  \n",
    ">\\>>> d = Counter(10, 2)\n",
    "\n",
    "* 요구사항 2. 다음과 같이 Counter의 인스턴스를 출력을 해주는 __str__() 메소드를 Counter 클래스 내에 구현하시오.\n",
    "\n",
    ">\\>>> print(c)  \n",
    "[Count (step: 1)] 10  \n",
    ">\\>>> print(d)  \n",
    "[Count (step: 2)] 10  \n",
    "\n",
    "* 요구사항 3. 다음과 같이 step에 주어진 증분만큼 count를 증가시키는 incr() 메소드를 Counter 클래스 내에 구현하시오.\n",
    "\n",
    ">\\>>> c.incr()  \n",
    ">\\>>> d.incr()  \n",
    ">\\>>> print(c)  \n",
    "[Count (step: 1)] 11  \n",
    ">\\>>> print(d)  \n",
    "[Count (step: 2)] 12  \n",
    "\n",
    "* 요구사항 4. Counter 클래스 내에 관련 메소드를 추가하여 인스턴스 객체를 직접 호출(call)할 수 있도록 하시오. 인스턴스 객체를 직접 호출했을 때에 내부적으로 incr() 메소드를 호출하는 방법으로 구현하시오.\n",
    "\n",
    ">\\>>> c()  \n",
    ">\\>>> d()  \n",
    ">\\>>> print(c)  \n",
    "[Count (step: 1)] 12  \n",
    ">\\>>> print(d)  \n",
    "[Count (step: 2)] 14  \n",
    "\n",
    "* 요구사항 5. 다음과 같은 두 개의 산술 연산 (+, -)이 수행될 수 있도록 Counter 클래스 내에 관련 메소드를 추가하시오.\n",
    "\n",
    ">\\>>> c = c + 5  \n",
    ">\\>>> d = d - 5  \n",
    ">\\>>> print(c)  \n",
    "[Count (step: 1)] 17  \n",
    ">\\>>> print(d)  \n",
    "[Count (step: 2)] 9  \n",
    "\n",
    "* 요구사항 6. 다음과 같은 관계연산 (>, <, ==)이 수행될 수 있도록 Counter 클래스 내에 관련 메소드를 추가하시오.\n",
    "\n",
    ">\\>>> print(c > 10)  \n",
    "True  \n",
    ">\\>>> print(d > 10)  \n",
    "False  \n",
    ">\\>>> print(c < 10)  \n",
    "False  \n",
    ">\\>>> print(d < 10)  \n",
    "True  \n",
    ">\\>>> print(c == 17)  \n",
    "True  \n",
    ">\\>>> print(d != 9)  \n",
    "False  "
   ]
  },
  {
   "cell_type": "code",
   "execution_count": 35,
   "id": "0ebfb436",
   "metadata": {},
   "outputs": [
    {
     "name": "stdout",
     "output_type": "stream",
     "text": [
      "[Count(step:1)]10\n",
      "[Count(step:2)]10\n",
      "\n",
      "[Count(step:1)]11\n",
      "[Count(step:2)]12\n",
      "\n",
      "[Count(step:1)]12\n",
      "[Count(step:2)]14\n",
      "\n",
      "[Count(step:1)]17\n",
      "[Count(step:2)]9\n",
      "\n",
      "True\n",
      "False\n",
      "False\n",
      "True\n",
      "True\n",
      "False\n"
     ]
    }
   ],
   "source": [
    "class Counter:\n",
    "    def __init__(self, count, step=1):\n",
    "        self.count = count\n",
    "        self.step = step\n",
    "    def __str__(self):\n",
    "        return \"[Count(step:{})]{}\".format(self.step, self.count)\n",
    "    def incr(self):\n",
    "        self.count = self.count + self.step\n",
    "    def __call__(self):\n",
    "        self.incr()\n",
    "    def __add__(self, other):\n",
    "        return Counter(self.count+other, self.step)\n",
    "    def __sub__(self, other):\n",
    "        return Counter(self.count-other, self.step)\n",
    "    def __gt__(self, y):\n",
    "        return self.count > y\n",
    "    def __lt__(self, y):\n",
    "        return self.count < y\n",
    "    def __eq__(self, y):\n",
    "        return self.count == y\n",
    "    \n",
    "c = Counter(10)\n",
    "d = Counter(10, 2)\n",
    "print(c)\n",
    "print(d)\n",
    "print()\n",
    "\n",
    "c.incr()\n",
    "d.incr()\n",
    "print(c)\n",
    "print(d)\n",
    "print()\n",
    "\n",
    "c()\n",
    "d()\n",
    "print(c)\n",
    "print(d)\n",
    "print()\n",
    "\n",
    "c = c + 5\n",
    "d = d - 5\n",
    "print(c)\n",
    "print(d)\n",
    "print()\n",
    "\n",
    "print(c > 10)\n",
    "print(d > 10)\n",
    "print(c < 10)\n",
    "print(d < 10)\n",
    "print(c == 17)\n",
    "print(d != 9)"
   ]
  },
  {
   "cell_type": "markdown",
   "id": "a0450098",
   "metadata": {},
   "source": [
    "1. Counter 클래스를 만든 뒤 생성자에 count 값과 step 값을 인자로 받을 수 있게 __init__ 메소드에 인자를 만들어주고 step의 기본값을 1로 줍니다.\n",
    "2. Counter의 인스턴스를 출력을 해주는 str() 메소드 생성해 그림과 같이 형식에 맞추어 반환하여줍니다.\n",
    "3. incr 메소드를 만들어 count값에 step값을 더해주어 구형해줍니다.\n",
    "4. call 메소드를 만들어 self.incr 을 해주어 내부적으로 incr() 메소드를 호출해줍니다. \n",
    "5. 두 개의 산술 연산 (+, -)이 수행될 수 있도록 Counter 클래스 내에 add 메소드와 sup 메소드를 만들어주고 count에 뒤에 오는 값을 더하거나 빼서 Counter 클래스를 직접 반환해줍니다.\n",
    "6. 관계연산 (>, <, ==)이 수행될 수 있도록 Counter 클래스 내에 gt, lt, eq 메소드를 만들어주고 뒤에 오는 값과 >, <, == 을 하여 반환해줍니다. "
   ]
  },
  {
   "cell_type": "markdown",
   "id": "badcfb0d",
   "metadata": {},
   "source": [
    "## 4. 다음은 내장 자료형 list를 서브클래싱하여 만든 MySet 클래스 정의 내용이다. 다음 클래스 정의에서 \\__init__(),\\__str__(), elimicate_duplicate()의 세 개의 메소드 코드 내용을 자신이 다른 사람에게 가르친다고 생각하며 설명해보시오.\n",
    "\n",
    "MySet은 집합(Set) 자료형을 정의하려는 의도하에 만들어진 클래스이다."
   ]
  },
  {
   "cell_type": "code",
   "execution_count": 1,
   "id": "281e8d62",
   "metadata": {},
   "outputs": [
    {
     "name": "stdout",
     "output_type": "stream",
     "text": [
      "MySet: {1 ,2 ,3}\n",
      "MySet: {2 ,3 ,4 ,5 ,6 ,7 ,8 ,9}\n"
     ]
    }
   ],
   "source": [
    "class MySet(list):\n",
    "    def __init__(self, l):\n",
    "        for e in l:\n",
    "            self.append(e)\n",
    "        MySet.eliminate_duplicate(self)\n",
    "    \n",
    "    def __str__(self):\n",
    "        result = \"MySet: {\"\n",
    "        for e in self:\n",
    "            result = result + str(e) + \" ,\"\n",
    "        result = result[0:len(result)-2] + \"}\"\n",
    "        return result\n",
    "\n",
    "    @staticmethod    \n",
    "    def eliminate_duplicate(l):\n",
    "        s = []\n",
    "        for e in l:\n",
    "            if e not in s:\n",
    "                s.append(e)\n",
    "        l[:] = []\n",
    "        for e in s:\n",
    "            l.append(e)\n",
    "\n",
    "    \n",
    "if __name__ == \"__main__\":\n",
    "    s = MySet([1, 2, 2, 3])\n",
    "    print(s)\n",
    "    t = MySet([2, 3, 4, 5, 6, 7, 8, 8, 8, 8, 8, 9])\n",
    "    print(t)"
   ]
  },
  {
   "cell_type": "markdown",
   "id": "614498c7",
   "metadata": {},
   "source": [
    "__init__() 메소드는 생성자 메소드로 객체가 생성될 때 자동으로 불리어지는 메소드입니다. 이 메소드에서는 self인자에 l의 값들을 넣어주고 eliminate_duplicate(self)를 호출해줍니다.   \n",
    "__str__() 메소드는 사용자가 원하는 형태로 객체 데이터를 담은 문자열을 반환합니다. print() 를 사용하면 호출됩니다. result에 먼저 앞에 넣을 문자열을 넣어주고 result에 self의 값을 차례대로 문자열로 변환하여 더해준 뒤 반환해줍니다.  \n",
    "eliminate_duplicate() 메소드는 집합 자료형을 정의하는데 필요한 중복제거 메소드입니다. 집합 자료형은 중복 불가이므로 __init__()에서 값들을 받은 뒤 중복제거 메소드를 호출해줍니다. 먼저 빈 리스트 s를 생성해주고 값들을 중복되지 않으면 차례대로 하나 씩 넣어줍니다. 그 후 기존의 배열을 비워 준 뒤 다시 s의 값들을 하나 씩 채워줍니다."
   ]
  },
  {
   "cell_type": "markdown",
   "id": "3d10994e",
   "metadata": {},
   "source": [
    "## 5. 4번 문제에 정의된 MySet 클래스에 메소드를 추가하여 다음 각 요구사항 모두를 만족시키는 코딩을 제시하시오.\n",
    "\n",
    "* 정답을 각 요구사항별로 입력할 필요 없이 요구사항 3개 전체에 대해 1개의 MySet 클래스 정의 코드를 제시하고 주석등으로 해당 코드를 설명한다.\n",
    "* 요구사항 1. | 연산으로 두 집합의 합집합을 반환한다.\n",
    "\n",
    ">\\>>> u = s | t  \n",
    ">\\>>> print(u)  \n",
    "MySet: {1, 2, 3, 4, 5, 6, 7, 8, 9}  \n",
    "\n",
    "* 요구사항 2. & 연산으로 두 집합의 교집합을 반환한다.\n",
    "\n",
    ">\\>>> u = s & t  \n",
    ">\\>>> print(u)  \n",
    "MySet: {2, 3}  \n",
    "\n",
    "* 요구사항 3. - 연산으로 두 집합의 차집합을 반환한다.\n",
    "\n",
    ">\\>>> s = MySet([1, 2, 3])  \n",
    ">\\>>> t = MySet([3, 4, 5])  \n",
    ">\\>>> u = s - t  \n",
    ">\\>>> print(u)  \n",
    "MySet: {1, 2}"
   ]
  },
  {
   "cell_type": "code",
   "execution_count": 8,
   "id": "af17010c",
   "metadata": {},
   "outputs": [
    {
     "name": "stdout",
     "output_type": "stream",
     "text": [
      "MySet: {1 ,2 ,3}\n",
      "MySet: {2 ,3 ,4 ,5 ,6 ,7 ,8 ,9}\n",
      "MySet: {1 ,2 ,3 ,4 ,5 ,6 ,7 ,8 ,9}\n",
      "MySet: {2 ,3}\n",
      "MySet: {1 ,2}\n"
     ]
    }
   ],
   "source": [
    "class MySet(list):\n",
    "    def __init__(self, l):\n",
    "        for e in l:\n",
    "            self.append(e)\n",
    "        MySet.eliminate_duplicate(self)\n",
    "    \n",
    "    def __str__(self):\n",
    "        result = \"MySet: {\"\n",
    "        for e in self:\n",
    "            result = result + str(e) + \" ,\"\n",
    "        result = result[0:len(result)-2] + \"}\"\n",
    "        return result\n",
    "\n",
    "    @staticmethod    \n",
    "    def eliminate_duplicate(l):\n",
    "        s = []\n",
    "        for e in l:\n",
    "            if e not in s:\n",
    "                s.append(e)\n",
    "        l[:] = []\n",
    "        for e in s:\n",
    "            l.append(e)\n",
    "            \n",
    "    def __or__(self, B):\n",
    "        s = []\n",
    "        for e in self:\n",
    "            s.append(e)\n",
    "        for e in B:\n",
    "            if e not in s:\n",
    "                s.append(e)\n",
    "        return MySet(s)\n",
    "    \n",
    "    def __and__(self, B):\n",
    "        s = []\n",
    "        for e in self:\n",
    "            if e in B:\n",
    "                s.append(e)\n",
    "        return MySet(s)\n",
    "    \n",
    "    def __sub__(self, B):\n",
    "        s = []\n",
    "        for e in self:\n",
    "            s.append(e)\n",
    "        for e in B:\n",
    "            if e in s:\n",
    "                s.remove(e)\n",
    "        return MySet(s)\n",
    "        \n",
    "if __name__ == \"__main__\":\n",
    "    s = MySet([1, 2, 2, 3])\n",
    "    print(s)\n",
    "    t = MySet([2, 3, 4, 5, 6, 7, 8, 8, 8, 8, 8, 9])\n",
    "    print(t)\n",
    "    \n",
    "    u = s | t\n",
    "    print(u)\n",
    "    \n",
    "    u = s & t\n",
    "    print(u)\n",
    "    \n",
    "    s = MySet([1, 2, 3])\n",
    "    t = MySet([3, 4, 5])\n",
    "    u = s - t\n",
    "    print(u)"
   ]
  },
  {
   "cell_type": "markdown",
   "id": "6a48c2dd",
   "metadata": {},
   "source": [
    "1. 합집합: \"|\"을 사용하므로 __or__ 메소드를 사용해 구현하였고 빈 배열 s를 만들고 앞에 오는 집합의 값들을 복사한 뒤 뒤에 오는 집합의 값들을 하나 씩 비교하여 s에 없는 값이면 추가하여 준 뒤 s를 집합으로 반환해 합집합을 구현하였습니다. \n",
    "2. 교집합: \"&\"를 사용하므로 __and__ 메소드를 사용해 구현하였고 빈 배열 s를 만들고 앞에 오는 집합의 값들을 하나 씩 비교하여 뒤에 오는 집합에 그 값이 있으면 s에 추가하여 준 뒤 s를 집합으로 반환해 교집합을 구현하였습니다.\n",
    "3. 차집합: \"-\"를 사용하므로 __sub__ 메소드를 사용해 구현하였고 빈 배열 s를 만들고 앞에 오는 집합의 값들을 복사한 뒤 뒤에 오는 집합의 값들을 하나 씩 비교하여 s에 있는 값이라면 s에서 해당 값을 제거하여 준 뒤 s를 집합으로 반환해 차집합을 구현하였습니다."
   ]
  },
  {
   "cell_type": "markdown",
   "id": "b24e7c3d",
   "metadata": {},
   "source": [
    "## 6. 5번 문제에서 정의한 MySet 클래스에 대해 다음 예제를 수행하면 오류없이 올바르게 동작하는 것을 확인할 수 있다. 다음 예제 내에 있는 len(), bool() 내장함수와 in 키워드 사용 예제가 별다른 메소드 정의를 하지 않았는 데도 올바르게 수행되는 이유를 설명하시오.\n",
    "\n",
    ">>>s = MySet([1, 2, 3, 4, 5, 6])  \n",
    "print(len(s))  \n",
    "6  \n",
    "print(bool(s))   \n",
    "True  \n",
    "print(2 in s)  \n",
    "True  "
   ]
  },
  {
   "cell_type": "markdown",
   "id": "9bfbd294",
   "metadata": {},
   "source": [
    "슈퍼 클래스로 list 클래스를 지정해 list 클래스를 확장하여 MySet 클래스를 정의하였습니다. 즉, 내장 자료형 list를 상속하여 사용자 클래스를 정의하여 내장 자료형과 사용자 자료형의 차이를 없애고 통일된 관점으로 모든 객체를 다룰 수 있게 되어 내장함수와 in 키워드를 사용할 수 있게 됩니다."
   ]
  },
  {
   "cell_type": "markdown",
   "id": "2e77f726",
   "metadata": {},
   "source": [
    "### 소감\n",
    "이번 마지막 과제는 학습한 개념에 대한 이해도를 많이 물어보는 문제가 많았던 것 같습니다. 과제를 하면서 어렴풋이 알고 있었던 개념들에 대해 다시 한번 생각해 보게 되었고 알고만 있지만 막상 설명을 해보려고 하니 어떻게 해야 할지 잘 떠오르지 않았습니다. 이를 통해 알고만 있는 것보다 남에게 설명을 하는 것이 더 어렵다는 것을 알게 되었고 설명을 적다보니 개념에 대해 더 구체적으로 정리할 수 있었던 시간이었습니다."
   ]
  }
 ],
 "metadata": {
  "kernelspec": {
   "display_name": "Python 3",
   "language": "python",
   "name": "python3"
  },
  "language_info": {
   "codemirror_mode": {
    "name": "ipython",
    "version": 3
   },
   "file_extension": ".py",
   "mimetype": "text/x-python",
   "name": "python",
   "nbconvert_exporter": "python",
   "pygments_lexer": "ipython3",
   "version": "3.8.8"
  }
 },
 "nbformat": 4,
 "nbformat_minor": 5
}
